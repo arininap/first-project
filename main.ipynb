{
 "cells": [
  {
   "cell_type": "markdown",
   "metadata": {
    "id": "H6cQIZr3ElW1"
   },
   "source": [
    "## Порсонализация предложений для постоянных клиентов интернет магазина \"В один клик\""
   ]
  },
  {
   "cell_type": "markdown",
   "metadata": {},
   "source": [
    "### Описание проекта"
   ]
  },
  {
   "cell_type": "markdown",
   "metadata": {},
   "source": [
    "Интернет-магазин «В один клик» продаёт разные товары: для детей, для дома, мелкую бытовую технику, косметику и даже продукты. Отчёт магазина за прошлый период показал, что активность покупателей начала снижаться. Привлекать новых клиентов уже не так эффективно: о магазине и так знает большая часть целевой аудитории. Возможный выход — удерживать активность постоянных клиентов. Сделать это можно с помощью персонализированных предложений."
   ]
  },
  {
   "cell_type": "markdown",
   "metadata": {},
   "source": [
    "### Задача проекта"
   ]
  },
  {
   "cell_type": "markdown",
   "metadata": {},
   "source": [
    "Разработать решение, позволяющее персонализировать предложения постоянным клиентам, чтобы увеличить их покупательскую активность."
   ]
  },
  {
   "cell_type": "markdown",
   "metadata": {},
   "source": [
    "### Путь решения задачи"
   ]
  },
  {
   "cell_type": "markdown",
   "metadata": {},
   "source": [
    "* Нужно построить модель, которая предскажет вероятность снижения покупательской активности клиента в следующие три месяца.\n",
    "* В исследование нужно включить дополнительные данные финансового департамента о прибыльности клиента: какой доход каждый покупатель приносил компании за последние три месяца.\n",
    "* Используя данные модели и данные о прибыльности клиентов, нужно выделить сегменты покупателей и разработать для них персонализированные предложения."
   ]
  },
  {
   "cell_type": "markdown",
   "metadata": {},
   "source": [
    "### Описание данных "
   ]
  },
  {
   "cell_type": "markdown",
   "metadata": {},
   "source": [
    "`market_file.csv` - Таблица, которая содержит данные о поведении покупателя на сайте, о коммуникациях с покупателем и его продуктовом поведении.\n",
    "\n",
    "* id — номер покупателя в корпоративной базе данных.\n",
    "* Покупательская активность — рассчитанный класс покупательской активности (целевой признак): «снизилась» или «прежний уровень».\n",
    "* Тип сервиса — уровень сервиса, например «премиум» и «стандарт».\n",
    "* Разрешить сообщать — информация о том, можно ли присылать покупателю дополнительные предложения о товаре. Согласие на это даёт покупатель.\n",
    "* Маркет_актив_6_мес — среднемесячное значение маркетинговых коммуникаций компании, которое приходилось на покупателя за последние 6 месяцев. Это значение показывает, какое число рассылок, звонков, показов рекламы и прочего приходилось на клиента.\n",
    "* Маркет_актив_тек_мес — количество маркетинговых коммуникаций в текущем месяце.\n",
    "* Длительность — значение, которое показывает, сколько дней прошло с момента регистрации покупателя на сайте.\n",
    "* Акционные_покупки — среднемесячная доля покупок по акции от общего числа покупок за последние 6 месяцев.\n",
    "* Популярная_категория — самая популярная категория товаров у покупателя за последние 6 месяцев.\n",
    "* Средний_просмотр_категорий_за_визит — показывает, сколько в среднем категорий покупатель просмотрел за визит в течение последнего месяца.\n",
    "* Неоплаченные_продукты_штук_квартал — общее число неоплаченных товаров в корзине за последние 3 месяца.\n",
    "* Ошибка_сервиса — число сбоев, которые коснулись покупателя во время посещения сайта.\n",
    "* Страниц_за_визит — среднее количество страниц, которые просмотрел покупатель за один визит на сайт за последние 3 месяца.\n",
    "\n",
    "`market_money.csv` - Таблица с данными о выручке, которую получает магазин с покупателя, то есть сколько покупатель всего потратил за период взаимодействия с сайтом.\n",
    "\n",
    "* id — номер покупателя в корпоративной базе данных.\n",
    "* Период — название периода, во время которого зафиксирована выручка. Например, 'текущий_месяц' или 'предыдущий_месяц'.\n",
    "* Выручка — сумма выручки за период.\n",
    "\n",
    "`market_time.csv` - Таблица с данными о времени (в минутах), которое покупатель провёл на сайте в течение периода.\n",
    "\n",
    "* id — номер покупателя в корпоративной базе данных.\n",
    "* Период — название периода, во время которого зафиксировано общее время.\n",
    "* минут — значение времени, проведённого на сайте, в минутах.\n",
    "\n",
    "`money.csv` - Таблица с данными о среднемесячной прибыли покупателя за последние 3 месяца: какую прибыль получает магазин от продаж каждому покупателю.\n",
    "\n",
    "* id — номер покупателя в корпоративной базе данных.\n",
    "* Прибыль — значение прибыли."
   ]
  },
  {
   "cell_type": "markdown",
   "metadata": {},
   "source": [
    "## Загрузка данных"
   ]
  },
  {
   "cell_type": "code",
   "execution_count": 6,
   "metadata": {
    "scrolled": true
   },
   "outputs": [],
   "source": [
    "!pip install scikit-learn==1.1.3 -q\n",
    "!pip install shap -q\n",
    "!pip -q install phik\n"
   ]
  },
  {
   "cell_type": "code",
   "execution_count": 7,
   "metadata": {},
   "outputs": [],
   "source": [
    "import pandas as pd\n",
    "import matplotlib.pyplot as plt \n",
    "import seaborn as sns\n",
    "import math\n",
    "import numpy as np"
   ]
  },
  {
   "cell_type": "code",
   "execution_count": 8,
   "metadata": {},
   "outputs": [],
   "source": [
    "from sklearn.pipeline import Pipeline\n",
    "from sklearn.compose import ColumnTransformer\n",
    "from sklearn.preprocessing import StandardScaler, OneHotEncoder, OrdinalEncoder, MinMaxScaler\n",
    "from sklearn.impute import SimpleImputer\n",
    "from sklearn.model_selection import train_test_split, RandomizedSearchCV\n",
    "from sklearn.linear_model import LogisticRegression\n",
    "from sklearn.neighbors import KNeighborsClassifier\n",
    "from sklearn.tree import DecisionTreeClassifier\n",
    "from sklearn.svm import SVC\n",
    "from sklearn.metrics import roc_auc_score, f1_score\n",
    "import phik\n",
    "import shap"
   ]
  },
  {
   "cell_type": "code",
   "execution_count": 9,
   "metadata": {},
   "outputs": [],
   "source": [
    "#Константы\n",
    "RANDOM_STATE = 42\n",
    "TEST_SIZE = 0.25"
   ]
  },
  {
   "cell_type": "code",
   "execution_count": 10,
   "metadata": {},
   "outputs": [
    {
     "ename": "FileNotFoundError",
     "evalue": "[Errno 2] No such file or directory: '/datasets/market_file.csv'",
     "output_type": "error",
     "traceback": [
      "\u001b[0;31m---------------------------------------------------------------------------\u001b[0m",
      "\u001b[0;31mFileNotFoundError\u001b[0m                         Traceback (most recent call last)",
      "Cell \u001b[0;32mIn[10], line 1\u001b[0m\n\u001b[0;32m----> 1\u001b[0m market_file \u001b[38;5;241m=\u001b[39m \u001b[43mpd\u001b[49m\u001b[38;5;241;43m.\u001b[39;49m\u001b[43mread_csv\u001b[49m\u001b[43m(\u001b[49m\u001b[38;5;124;43m'\u001b[39;49m\u001b[38;5;124;43m/datasets/market_file.csv\u001b[39;49m\u001b[38;5;124;43m'\u001b[39;49m\u001b[43m)\u001b[49m\n\u001b[1;32m      2\u001b[0m market_money \u001b[38;5;241m=\u001b[39m pd\u001b[38;5;241m.\u001b[39mread_csv(\u001b[38;5;124m'\u001b[39m\u001b[38;5;124m/datasets/market_money.csv\u001b[39m\u001b[38;5;124m'\u001b[39m)\n\u001b[1;32m      3\u001b[0m market_time \u001b[38;5;241m=\u001b[39m pd\u001b[38;5;241m.\u001b[39mread_csv(\u001b[38;5;124m'\u001b[39m\u001b[38;5;124m/datasets/market_time.csv\u001b[39m\u001b[38;5;124m'\u001b[39m)\n",
      "File \u001b[0;32m/opt/anaconda3/envs/practicum/lib/python3.11/site-packages/pandas/io/parsers/readers.py:1026\u001b[0m, in \u001b[0;36mread_csv\u001b[0;34m(filepath_or_buffer, sep, delimiter, header, names, index_col, usecols, dtype, engine, converters, true_values, false_values, skipinitialspace, skiprows, skipfooter, nrows, na_values, keep_default_na, na_filter, verbose, skip_blank_lines, parse_dates, infer_datetime_format, keep_date_col, date_parser, date_format, dayfirst, cache_dates, iterator, chunksize, compression, thousands, decimal, lineterminator, quotechar, quoting, doublequote, escapechar, comment, encoding, encoding_errors, dialect, on_bad_lines, delim_whitespace, low_memory, memory_map, float_precision, storage_options, dtype_backend)\u001b[0m\n\u001b[1;32m   1013\u001b[0m kwds_defaults \u001b[38;5;241m=\u001b[39m _refine_defaults_read(\n\u001b[1;32m   1014\u001b[0m     dialect,\n\u001b[1;32m   1015\u001b[0m     delimiter,\n\u001b[0;32m   (...)\u001b[0m\n\u001b[1;32m   1022\u001b[0m     dtype_backend\u001b[38;5;241m=\u001b[39mdtype_backend,\n\u001b[1;32m   1023\u001b[0m )\n\u001b[1;32m   1024\u001b[0m kwds\u001b[38;5;241m.\u001b[39mupdate(kwds_defaults)\n\u001b[0;32m-> 1026\u001b[0m \u001b[38;5;28;01mreturn\u001b[39;00m \u001b[43m_read\u001b[49m\u001b[43m(\u001b[49m\u001b[43mfilepath_or_buffer\u001b[49m\u001b[43m,\u001b[49m\u001b[43m \u001b[49m\u001b[43mkwds\u001b[49m\u001b[43m)\u001b[49m\n",
      "File \u001b[0;32m/opt/anaconda3/envs/practicum/lib/python3.11/site-packages/pandas/io/parsers/readers.py:620\u001b[0m, in \u001b[0;36m_read\u001b[0;34m(filepath_or_buffer, kwds)\u001b[0m\n\u001b[1;32m    617\u001b[0m _validate_names(kwds\u001b[38;5;241m.\u001b[39mget(\u001b[38;5;124m\"\u001b[39m\u001b[38;5;124mnames\u001b[39m\u001b[38;5;124m\"\u001b[39m, \u001b[38;5;28;01mNone\u001b[39;00m))\n\u001b[1;32m    619\u001b[0m \u001b[38;5;66;03m# Create the parser.\u001b[39;00m\n\u001b[0;32m--> 620\u001b[0m parser \u001b[38;5;241m=\u001b[39m \u001b[43mTextFileReader\u001b[49m\u001b[43m(\u001b[49m\u001b[43mfilepath_or_buffer\u001b[49m\u001b[43m,\u001b[49m\u001b[43m \u001b[49m\u001b[38;5;241;43m*\u001b[39;49m\u001b[38;5;241;43m*\u001b[39;49m\u001b[43mkwds\u001b[49m\u001b[43m)\u001b[49m\n\u001b[1;32m    622\u001b[0m \u001b[38;5;28;01mif\u001b[39;00m chunksize \u001b[38;5;129;01mor\u001b[39;00m iterator:\n\u001b[1;32m    623\u001b[0m     \u001b[38;5;28;01mreturn\u001b[39;00m parser\n",
      "File \u001b[0;32m/opt/anaconda3/envs/practicum/lib/python3.11/site-packages/pandas/io/parsers/readers.py:1620\u001b[0m, in \u001b[0;36mTextFileReader.__init__\u001b[0;34m(self, f, engine, **kwds)\u001b[0m\n\u001b[1;32m   1617\u001b[0m     \u001b[38;5;28mself\u001b[39m\u001b[38;5;241m.\u001b[39moptions[\u001b[38;5;124m\"\u001b[39m\u001b[38;5;124mhas_index_names\u001b[39m\u001b[38;5;124m\"\u001b[39m] \u001b[38;5;241m=\u001b[39m kwds[\u001b[38;5;124m\"\u001b[39m\u001b[38;5;124mhas_index_names\u001b[39m\u001b[38;5;124m\"\u001b[39m]\n\u001b[1;32m   1619\u001b[0m \u001b[38;5;28mself\u001b[39m\u001b[38;5;241m.\u001b[39mhandles: IOHandles \u001b[38;5;241m|\u001b[39m \u001b[38;5;28;01mNone\u001b[39;00m \u001b[38;5;241m=\u001b[39m \u001b[38;5;28;01mNone\u001b[39;00m\n\u001b[0;32m-> 1620\u001b[0m \u001b[38;5;28mself\u001b[39m\u001b[38;5;241m.\u001b[39m_engine \u001b[38;5;241m=\u001b[39m \u001b[38;5;28;43mself\u001b[39;49m\u001b[38;5;241;43m.\u001b[39;49m\u001b[43m_make_engine\u001b[49m\u001b[43m(\u001b[49m\u001b[43mf\u001b[49m\u001b[43m,\u001b[49m\u001b[43m \u001b[49m\u001b[38;5;28;43mself\u001b[39;49m\u001b[38;5;241;43m.\u001b[39;49m\u001b[43mengine\u001b[49m\u001b[43m)\u001b[49m\n",
      "File \u001b[0;32m/opt/anaconda3/envs/practicum/lib/python3.11/site-packages/pandas/io/parsers/readers.py:1880\u001b[0m, in \u001b[0;36mTextFileReader._make_engine\u001b[0;34m(self, f, engine)\u001b[0m\n\u001b[1;32m   1878\u001b[0m     \u001b[38;5;28;01mif\u001b[39;00m \u001b[38;5;124m\"\u001b[39m\u001b[38;5;124mb\u001b[39m\u001b[38;5;124m\"\u001b[39m \u001b[38;5;129;01mnot\u001b[39;00m \u001b[38;5;129;01min\u001b[39;00m mode:\n\u001b[1;32m   1879\u001b[0m         mode \u001b[38;5;241m+\u001b[39m\u001b[38;5;241m=\u001b[39m \u001b[38;5;124m\"\u001b[39m\u001b[38;5;124mb\u001b[39m\u001b[38;5;124m\"\u001b[39m\n\u001b[0;32m-> 1880\u001b[0m \u001b[38;5;28mself\u001b[39m\u001b[38;5;241m.\u001b[39mhandles \u001b[38;5;241m=\u001b[39m \u001b[43mget_handle\u001b[49m\u001b[43m(\u001b[49m\n\u001b[1;32m   1881\u001b[0m \u001b[43m    \u001b[49m\u001b[43mf\u001b[49m\u001b[43m,\u001b[49m\n\u001b[1;32m   1882\u001b[0m \u001b[43m    \u001b[49m\u001b[43mmode\u001b[49m\u001b[43m,\u001b[49m\n\u001b[1;32m   1883\u001b[0m \u001b[43m    \u001b[49m\u001b[43mencoding\u001b[49m\u001b[38;5;241;43m=\u001b[39;49m\u001b[38;5;28;43mself\u001b[39;49m\u001b[38;5;241;43m.\u001b[39;49m\u001b[43moptions\u001b[49m\u001b[38;5;241;43m.\u001b[39;49m\u001b[43mget\u001b[49m\u001b[43m(\u001b[49m\u001b[38;5;124;43m\"\u001b[39;49m\u001b[38;5;124;43mencoding\u001b[39;49m\u001b[38;5;124;43m\"\u001b[39;49m\u001b[43m,\u001b[49m\u001b[43m \u001b[49m\u001b[38;5;28;43;01mNone\u001b[39;49;00m\u001b[43m)\u001b[49m\u001b[43m,\u001b[49m\n\u001b[1;32m   1884\u001b[0m \u001b[43m    \u001b[49m\u001b[43mcompression\u001b[49m\u001b[38;5;241;43m=\u001b[39;49m\u001b[38;5;28;43mself\u001b[39;49m\u001b[38;5;241;43m.\u001b[39;49m\u001b[43moptions\u001b[49m\u001b[38;5;241;43m.\u001b[39;49m\u001b[43mget\u001b[49m\u001b[43m(\u001b[49m\u001b[38;5;124;43m\"\u001b[39;49m\u001b[38;5;124;43mcompression\u001b[39;49m\u001b[38;5;124;43m\"\u001b[39;49m\u001b[43m,\u001b[49m\u001b[43m \u001b[49m\u001b[38;5;28;43;01mNone\u001b[39;49;00m\u001b[43m)\u001b[49m\u001b[43m,\u001b[49m\n\u001b[1;32m   1885\u001b[0m \u001b[43m    \u001b[49m\u001b[43mmemory_map\u001b[49m\u001b[38;5;241;43m=\u001b[39;49m\u001b[38;5;28;43mself\u001b[39;49m\u001b[38;5;241;43m.\u001b[39;49m\u001b[43moptions\u001b[49m\u001b[38;5;241;43m.\u001b[39;49m\u001b[43mget\u001b[49m\u001b[43m(\u001b[49m\u001b[38;5;124;43m\"\u001b[39;49m\u001b[38;5;124;43mmemory_map\u001b[39;49m\u001b[38;5;124;43m\"\u001b[39;49m\u001b[43m,\u001b[49m\u001b[43m \u001b[49m\u001b[38;5;28;43;01mFalse\u001b[39;49;00m\u001b[43m)\u001b[49m\u001b[43m,\u001b[49m\n\u001b[1;32m   1886\u001b[0m \u001b[43m    \u001b[49m\u001b[43mis_text\u001b[49m\u001b[38;5;241;43m=\u001b[39;49m\u001b[43mis_text\u001b[49m\u001b[43m,\u001b[49m\n\u001b[1;32m   1887\u001b[0m \u001b[43m    \u001b[49m\u001b[43merrors\u001b[49m\u001b[38;5;241;43m=\u001b[39;49m\u001b[38;5;28;43mself\u001b[39;49m\u001b[38;5;241;43m.\u001b[39;49m\u001b[43moptions\u001b[49m\u001b[38;5;241;43m.\u001b[39;49m\u001b[43mget\u001b[49m\u001b[43m(\u001b[49m\u001b[38;5;124;43m\"\u001b[39;49m\u001b[38;5;124;43mencoding_errors\u001b[39;49m\u001b[38;5;124;43m\"\u001b[39;49m\u001b[43m,\u001b[49m\u001b[43m \u001b[49m\u001b[38;5;124;43m\"\u001b[39;49m\u001b[38;5;124;43mstrict\u001b[39;49m\u001b[38;5;124;43m\"\u001b[39;49m\u001b[43m)\u001b[49m\u001b[43m,\u001b[49m\n\u001b[1;32m   1888\u001b[0m \u001b[43m    \u001b[49m\u001b[43mstorage_options\u001b[49m\u001b[38;5;241;43m=\u001b[39;49m\u001b[38;5;28;43mself\u001b[39;49m\u001b[38;5;241;43m.\u001b[39;49m\u001b[43moptions\u001b[49m\u001b[38;5;241;43m.\u001b[39;49m\u001b[43mget\u001b[49m\u001b[43m(\u001b[49m\u001b[38;5;124;43m\"\u001b[39;49m\u001b[38;5;124;43mstorage_options\u001b[39;49m\u001b[38;5;124;43m\"\u001b[39;49m\u001b[43m,\u001b[49m\u001b[43m \u001b[49m\u001b[38;5;28;43;01mNone\u001b[39;49;00m\u001b[43m)\u001b[49m\u001b[43m,\u001b[49m\n\u001b[1;32m   1889\u001b[0m \u001b[43m\u001b[49m\u001b[43m)\u001b[49m\n\u001b[1;32m   1890\u001b[0m \u001b[38;5;28;01massert\u001b[39;00m \u001b[38;5;28mself\u001b[39m\u001b[38;5;241m.\u001b[39mhandles \u001b[38;5;129;01mis\u001b[39;00m \u001b[38;5;129;01mnot\u001b[39;00m \u001b[38;5;28;01mNone\u001b[39;00m\n\u001b[1;32m   1891\u001b[0m f \u001b[38;5;241m=\u001b[39m \u001b[38;5;28mself\u001b[39m\u001b[38;5;241m.\u001b[39mhandles\u001b[38;5;241m.\u001b[39mhandle\n",
      "File \u001b[0;32m/opt/anaconda3/envs/practicum/lib/python3.11/site-packages/pandas/io/common.py:873\u001b[0m, in \u001b[0;36mget_handle\u001b[0;34m(path_or_buf, mode, encoding, compression, memory_map, is_text, errors, storage_options)\u001b[0m\n\u001b[1;32m    868\u001b[0m \u001b[38;5;28;01melif\u001b[39;00m \u001b[38;5;28misinstance\u001b[39m(handle, \u001b[38;5;28mstr\u001b[39m):\n\u001b[1;32m    869\u001b[0m     \u001b[38;5;66;03m# Check whether the filename is to be opened in binary mode.\u001b[39;00m\n\u001b[1;32m    870\u001b[0m     \u001b[38;5;66;03m# Binary mode does not support 'encoding' and 'newline'.\u001b[39;00m\n\u001b[1;32m    871\u001b[0m     \u001b[38;5;28;01mif\u001b[39;00m ioargs\u001b[38;5;241m.\u001b[39mencoding \u001b[38;5;129;01mand\u001b[39;00m \u001b[38;5;124m\"\u001b[39m\u001b[38;5;124mb\u001b[39m\u001b[38;5;124m\"\u001b[39m \u001b[38;5;129;01mnot\u001b[39;00m \u001b[38;5;129;01min\u001b[39;00m ioargs\u001b[38;5;241m.\u001b[39mmode:\n\u001b[1;32m    872\u001b[0m         \u001b[38;5;66;03m# Encoding\u001b[39;00m\n\u001b[0;32m--> 873\u001b[0m         handle \u001b[38;5;241m=\u001b[39m \u001b[38;5;28;43mopen\u001b[39;49m\u001b[43m(\u001b[49m\n\u001b[1;32m    874\u001b[0m \u001b[43m            \u001b[49m\u001b[43mhandle\u001b[49m\u001b[43m,\u001b[49m\n\u001b[1;32m    875\u001b[0m \u001b[43m            \u001b[49m\u001b[43mioargs\u001b[49m\u001b[38;5;241;43m.\u001b[39;49m\u001b[43mmode\u001b[49m\u001b[43m,\u001b[49m\n\u001b[1;32m    876\u001b[0m \u001b[43m            \u001b[49m\u001b[43mencoding\u001b[49m\u001b[38;5;241;43m=\u001b[39;49m\u001b[43mioargs\u001b[49m\u001b[38;5;241;43m.\u001b[39;49m\u001b[43mencoding\u001b[49m\u001b[43m,\u001b[49m\n\u001b[1;32m    877\u001b[0m \u001b[43m            \u001b[49m\u001b[43merrors\u001b[49m\u001b[38;5;241;43m=\u001b[39;49m\u001b[43merrors\u001b[49m\u001b[43m,\u001b[49m\n\u001b[1;32m    878\u001b[0m \u001b[43m            \u001b[49m\u001b[43mnewline\u001b[49m\u001b[38;5;241;43m=\u001b[39;49m\u001b[38;5;124;43m\"\u001b[39;49m\u001b[38;5;124;43m\"\u001b[39;49m\u001b[43m,\u001b[49m\n\u001b[1;32m    879\u001b[0m \u001b[43m        \u001b[49m\u001b[43m)\u001b[49m\n\u001b[1;32m    880\u001b[0m     \u001b[38;5;28;01melse\u001b[39;00m:\n\u001b[1;32m    881\u001b[0m         \u001b[38;5;66;03m# Binary mode\u001b[39;00m\n\u001b[1;32m    882\u001b[0m         handle \u001b[38;5;241m=\u001b[39m \u001b[38;5;28mopen\u001b[39m(handle, ioargs\u001b[38;5;241m.\u001b[39mmode)\n",
      "\u001b[0;31mFileNotFoundError\u001b[0m: [Errno 2] No such file or directory: '/datasets/market_file.csv'"
     ]
    }
   ],
   "source": [
    "market_file = pd.read_csv('/datasets/market_file.csv')\n",
    "market_money = pd.read_csv('/datasets/market_money.csv')\n",
    "market_time = pd.read_csv('/datasets/market_time.csv')\n",
    "money = pd.read_csv('/datasets/money.csv', sep=';', decimal=\",\")"
   ]
  },
  {
   "cell_type": "markdown",
   "metadata": {},
   "source": [
    "### Общие сведения датасетов"
   ]
  },
  {
   "cell_type": "markdown",
   "metadata": {},
   "source": [
    "Проверим основную информацию по загруженным данным. Исправлять выявленные недостатки будем в дальнейших шагах проекта."
   ]
  },
  {
   "cell_type": "code",
   "execution_count": null,
   "metadata": {},
   "outputs": [],
   "source": [
    "market_file.info()"
   ]
  },
  {
   "cell_type": "code",
   "execution_count": null,
   "metadata": {},
   "outputs": [],
   "source": [
    "market_file.head(3)"
   ]
  },
  {
   "cell_type": "code",
   "execution_count": null,
   "metadata": {},
   "outputs": [],
   "source": [
    "market_file.describe()"
   ]
  },
  {
   "cell_type": "markdown",
   "metadata": {},
   "source": [
    "Столбцы датасета совпадают с описанием. Явных пропусков не видно. Названия некоторых столбцов содержат пробелы, что нужно будет исправить в дальнейшем. Тип данных некоторых столбцов, например `Маркет_актив_6_мес` и `Акционные_покупки` не совпадает с описанием."
   ]
  },
  {
   "cell_type": "code",
   "execution_count": null,
   "metadata": {},
   "outputs": [],
   "source": [
    "market_money.info()"
   ]
  },
  {
   "cell_type": "code",
   "execution_count": null,
   "metadata": {},
   "outputs": [],
   "source": [
    "market_money.head(3)"
   ]
  },
  {
   "cell_type": "code",
   "execution_count": null,
   "metadata": {},
   "outputs": [],
   "source": [
    "market_money.describe()"
   ]
  },
  {
   "cell_type": "markdown",
   "metadata": {},
   "source": [
    "Столбцы датасета совпадают с описанием. Явных пропусков не видно. Тип данных столбца `Выручка` не совпадает с описанием. Кроме того есть записи с выручной 0 и с выручкой более 100 000. Возможно, это выбросы, которые в дальнейшем придется удалить. "
   ]
  },
  {
   "cell_type": "code",
   "execution_count": null,
   "metadata": {},
   "outputs": [],
   "source": [
    "market_time.info()"
   ]
  },
  {
   "cell_type": "code",
   "execution_count": null,
   "metadata": {},
   "outputs": [],
   "source": [
    "market_time.head(3)"
   ]
  },
  {
   "cell_type": "code",
   "execution_count": null,
   "metadata": {},
   "outputs": [],
   "source": [
    "market_time.describe()"
   ]
  },
  {
   "cell_type": "markdown",
   "metadata": {},
   "source": [
    "Столбцы датасета совпадают с описанием. Явных пропусков не видно. "
   ]
  },
  {
   "cell_type": "code",
   "execution_count": null,
   "metadata": {},
   "outputs": [],
   "source": [
    "money.info()"
   ]
  },
  {
   "cell_type": "code",
   "execution_count": null,
   "metadata": {},
   "outputs": [],
   "source": [
    "money.head(3)"
   ]
  },
  {
   "cell_type": "code",
   "execution_count": null,
   "metadata": {},
   "outputs": [],
   "source": [
    "money.describe()"
   ]
  },
  {
   "cell_type": "markdown",
   "metadata": {},
   "source": [
    "Столбцы датасета совпадают с описанием. Пропусков не обнаружено."
   ]
  },
  {
   "cell_type": "markdown",
   "metadata": {},
   "source": [
    "### Вывод"
   ]
  },
  {
   "cell_type": "markdown",
   "metadata": {},
   "source": [
    "Данные были загружены и изучены. Предварительно, в данных есть подозрительные значения: аномалии или выбросы, нужно проверить. Пропуски в данных не обнаружены, обнаружены неверные типы данных."
   ]
  },
  {
   "cell_type": "markdown",
   "metadata": {},
   "source": [
    "## Предобработка данных"
   ]
  },
  {
   "cell_type": "markdown",
   "metadata": {},
   "source": [
    "Теперь займемся предобработкой данных. Приведем в порядок наименования столбцов, приведем типы данных, поищем пропуски, опечатки, и дубли в данных."
   ]
  },
  {
   "cell_type": "markdown",
   "metadata": {},
   "source": [
    "### Переименование столбцов"
   ]
  },
  {
   "cell_type": "markdown",
   "metadata": {},
   "source": [
    "Так как в рамках проекта позволено оставить киррилические наименование столбцов, то просто заменим пробелы на подчеркивания."
   ]
  },
  {
   "cell_type": "code",
   "execution_count": null,
   "metadata": {},
   "outputs": [],
   "source": [
    "def columns_remove_spaces(df):\n",
    "    df.columns = df.columns.str.replace(' ', '_').str.lower()"
   ]
  },
  {
   "cell_type": "code",
   "execution_count": null,
   "metadata": {},
   "outputs": [],
   "source": [
    "columns_remove_spaces(market_file)\n",
    "columns_remove_spaces(market_money)\n",
    "columns_remove_spaces(market_time)\n",
    "columns_remove_spaces(money)"
   ]
  },
  {
   "cell_type": "code",
   "execution_count": null,
   "metadata": {},
   "outputs": [],
   "source": [
    "market_file.columns"
   ]
  },
  {
   "cell_type": "markdown",
   "metadata": {},
   "source": [
    "### Приведение типов данных"
   ]
  },
  {
   "cell_type": "markdown",
   "metadata": {},
   "source": [
    "Некоторые колонки содержание численны данные были определены как `object` исправим это."
   ]
  },
  {
   "cell_type": "code",
   "execution_count": null,
   "metadata": {},
   "outputs": [],
   "source": [
    "def object_to_float(df, columns):\n",
    "    for col in columns:\n",
    "        df[col] = df[col].astype('float64')"
   ]
  },
  {
   "cell_type": "code",
   "execution_count": null,
   "metadata": {},
   "outputs": [],
   "source": [
    "market_file.head(5)"
   ]
  },
  {
   "cell_type": "code",
   "execution_count": null,
   "metadata": {},
   "outputs": [],
   "source": [
    "market_file.info()"
   ]
  },
  {
   "cell_type": "code",
   "execution_count": null,
   "metadata": {},
   "outputs": [],
   "source": [
    "market_money.info()"
   ]
  },
  {
   "cell_type": "markdown",
   "metadata": {},
   "source": [
    "### Обработка дублей в данных"
   ]
  },
  {
   "cell_type": "markdown",
   "metadata": {},
   "source": [
    "Проверим отсутствие явных дубликатов (спойлер: их нет)"
   ]
  },
  {
   "cell_type": "code",
   "execution_count": null,
   "metadata": {},
   "outputs": [],
   "source": [
    "market_file.duplicated().sum()"
   ]
  },
  {
   "cell_type": "markdown",
   "metadata": {},
   "source": [
    "Но вот если исключить ключевое поле `Id`, то есть 11 дублей. Пока что непонятно, что с ними делать. Пока что оставим как есть. Тем более что записей в датасете всего 1300 - не так уж и много."
   ]
  },
  {
   "cell_type": "markdown",
   "metadata": {},
   "source": [
    "В остальных датасетах нет смысла исключать поле Id, проверим только полные дубли."
   ]
  },
  {
   "cell_type": "code",
   "execution_count": null,
   "metadata": {},
   "outputs": [],
   "source": [
    "print('Число явных дубликатов в датафрейме market_money', market_money.duplicated().sum())\n",
    "print('Число явных дубликатов в датафрейме market_time', market_time.duplicated().sum())\n",
    "print('Число явных дубликатов в датафрейме money', money.duplicated().sum())"
   ]
  },
  {
   "cell_type": "markdown",
   "metadata": {},
   "source": []
  },
  {
   "cell_type": "markdown",
   "metadata": {},
   "source": [
    "### Обработка пропусков в данных"
   ]
  },
  {
   "cell_type": "markdown",
   "metadata": {},
   "source": [
    "Явные пропуски в данных не были обнаружены, надо найти неявные"
   ]
  },
  {
   "cell_type": "code",
   "execution_count": null,
   "metadata": {},
   "outputs": [],
   "source": [
    "def check_string_nan_values(df, columns):\n",
    "    columns_with_nan = {}\n",
    "    for col in columns:    \n",
    "        na_count = df[(df[col].str.lower().isin(['', ' ', 'none', 'nan']))][col].count()\n",
    "        if na_count > 0:\n",
    "            columns_with_nan[col] = na_count\n",
    "\n",
    "    return columns_with_nan"
   ]
  },
  {
   "cell_type": "code",
   "execution_count": null,
   "metadata": {},
   "outputs": [],
   "source": [
    "cols = check_string_nan_values(market_file, market_file.select_dtypes(include=['object']).columns.to_list())\n",
    "print('Список колонок market_file с пустыми значениями', cols)"
   ]
  },
  {
   "cell_type": "code",
   "execution_count": null,
   "metadata": {},
   "outputs": [],
   "source": [
    "cols = check_string_nan_values(market_money, market_money.select_dtypes(include=['object']).columns.to_list())\n",
    "print('Список колонок market_money с пустыми значениями', cols)"
   ]
  },
  {
   "cell_type": "code",
   "execution_count": null,
   "metadata": {},
   "outputs": [],
   "source": [
    "cols = check_string_nan_values(market_time, market_time.select_dtypes(include=['object']).columns.to_list())\n",
    "print('Список колонок market_time с пустыми значениями', cols)"
   ]
  },
  {
   "cell_type": "markdown",
   "metadata": {},
   "source": [
    "Похоже что датасеты не содержат неявных пропусков\n"
   ]
  },
  {
   "cell_type": "markdown",
   "metadata": {},
   "source": [
    "### Вывод"
   ]
  },
  {
   "cell_type": "markdown",
   "metadata": {},
   "source": [
    "На данном этапе исследования были проделаны следующие шаги.\n",
    "\n",
    "* Переименованы колонки и приведены в удобный для работы вид\n",
    "* Выставлены правильные типы данных\n",
    "* Поиск дубликатов. Они не были обнаружены\n",
    "* Явные и неявные пропуски не обнаружены"
   ]
  },
  {
   "cell_type": "markdown",
   "metadata": {},
   "source": [
    "## Исследовательский анализ данных"
   ]
  },
  {
   "cell_type": "markdown",
   "metadata": {},
   "source": [
    "**market_file**"
   ]
  },
  {
   "cell_type": "markdown",
   "metadata": {},
   "source": [
    "Теперь займемся исследованием данных. Проверим данные на выбросы и аномальные значения, а так проверим не ускальзнули от нас ли какие-либо ошибки в данных."
   ]
  },
  {
   "cell_type": "code",
   "execution_count": null,
   "metadata": {},
   "outputs": [],
   "source": [
    "\n",
    "    \n",
    "def histogram(df, col, target):\n",
    "    plt.figure(figsize=(8,6))\n",
    "    plot = sns.histplot(df, bins=20, kde=True, hue=target, x=col)\n",
    "    plot.set_title(f'Рапределение по {col}', fontsize=16)\n",
    "    plot.set_ylabel('Количество', fontsize=14)\n",
    "    \n",
    "    \n",
    "def categoral_unique(df, col):\n",
    "    display(df[col].unique())\n",
    "    \n",
    "    plt.figure(figsize=(8,6))\n",
    "    plot = sns.countplot(y=col, data=df)\n",
    "    plot.set_title(f'Рапределение по {col}', fontsize=16)\n",
    "    plot.set_xlabel('Количество', fontsize=14)\n",
    "    \n",
    "    \n",
    "def hist_with_wiskers(df, col, target):\n",
    "    sns.set()\n",
    "    f, axes = plt.subplots(1, 2, figsize=(16, 4))\n",
    "    axes[0].set_title(f'Гистограмма для {col}', fontsize=16)\n",
    "    axes[0].set_ylabel('Количество', fontsize=14)\n",
    "    if target != None:\n",
    "        sns.histplot(df, bins=20, kde=True, ax=axes[0], hue=target, x=col)\n",
    "    else:\n",
    "        sns.histplot(df, bins=20, kde=True, ax=axes[0], x=col)\n",
    "    axes[1].set_title(f'График ящик с усами для {col}', fontsize=16)\n",
    "    sns.boxplot(data=df, ax=axes[1], y=col)\n",
    "    axes[1].set_ylabel(col, fontsize=14)\n",
    "    plt.show()\n",
    "\n",
    "def pivot_bar_plot(df, col):\n",
    "    plt.figure(figsize=(8,6))\n",
    "    plot = sns.barplot(x=col, data=df, y=df.index)\n",
    "    plot.set_title(f'Рапределение по {col}', fontsize=16)\n",
    "    plot.set_xlabel('Количество', fontsize=14)"
   ]
  },
  {
   "cell_type": "code",
   "execution_count": null,
   "metadata": {},
   "outputs": [],
   "source": [
    "categoral_unique(market_file, 'покупательская_активность')"
   ]
  },
  {
   "cell_type": "markdown",
   "metadata": {},
   "source": [
    "Видим некоторый дисбаланс значений в целевом признаке, это нужно будет учесть в модели."
   ]
  },
  {
   "cell_type": "code",
   "execution_count": null,
   "metadata": {},
   "outputs": [],
   "source": [
    "categoral_unique(market_file, 'тип_сервиса')"
   ]
  },
  {
   "cell_type": "markdown",
   "metadata": {},
   "source": [
    "Обнаружилась опечатка.  \n",
    "Так же обратим внимание, что премиум пользователей меньше, что и логично."
   ]
  },
  {
   "cell_type": "code",
   "execution_count": null,
   "metadata": {},
   "outputs": [],
   "source": [
    "market_file['тип_сервиса'] = market_file['тип_сервиса'].replace('стандартт', 'стандарт')"
   ]
  },
  {
   "cell_type": "code",
   "execution_count": null,
   "metadata": {},
   "outputs": [],
   "source": [
    "categoral_unique(market_file, 'разрешить_сообщать')"
   ]
  },
  {
   "cell_type": "code",
   "execution_count": null,
   "metadata": {},
   "outputs": [],
   "source": [
    "hist_with_wiskers(market_file, 'маркет_актив_6_мес', 'покупательская_активность')"
   ]
  },
  {
   "cell_type": "code",
   "execution_count": null,
   "metadata": {},
   "outputs": [],
   "source": [
    "market_file.query('маркет_актив_6_мес < 2')"
   ]
  },
  {
   "cell_type": "code",
   "execution_count": null,
   "metadata": {},
   "outputs": [],
   "source": [
    "hist_with_wiskers(market_file, 'маркет_актив_тек_мес', 'покупательская_активность')"
   ]
  },
  {
   "cell_type": "markdown",
   "metadata": {},
   "source": [
    "И снова не выбросы, а удивительные данные"
   ]
  },
  {
   "cell_type": "code",
   "execution_count": null,
   "metadata": {},
   "outputs": [],
   "source": [
    "hist_with_wiskers(market_file, 'длительность', 'покупательская_активность')"
   ]
  },
  {
   "cell_type": "markdown",
   "metadata": {},
   "source": [
    "Все выглядит хорошо."
   ]
  },
  {
   "cell_type": "code",
   "execution_count": null,
   "metadata": {
    "scrolled": true
   },
   "outputs": [],
   "source": [
    "hist_with_wiskers(market_file, 'акционные_покупки', 'покупательская_активность')"
   ]
  },
  {
   "cell_type": "markdown",
   "metadata": {},
   "source": [
    "Большинство покупателей не ориентируются на скидки. Это звучит логично, люди уже давно просекли фишку ложных скидок и ориентируются на цену в меру своих возможностей. Однако все еще есть те, кто следует скидкам, поэтому при подготовке данных для модели разумным будет разделить пользователей на две части `Часто покупает по акции` и `Редко покупает по акции`, превратив колонку `Акционные_покупки` в категоральный признак.\n",
    "\n",
    "Также замечен скачок, хотелось сказать, что выбросы, но нет, просто акционные покупки"
   ]
  },
  {
   "cell_type": "code",
   "execution_count": null,
   "metadata": {},
   "outputs": [],
   "source": [
    "categoral_unique(market_file, 'популярная_категория') "
   ]
  },
  {
   "cell_type": "code",
   "execution_count": null,
   "metadata": {},
   "outputs": [],
   "source": [
    "hist_with_wiskers(market_file, 'средний_просмотр_категорий_за_визит', 'покупательская_активность')"
   ]
  },
  {
   "cell_type": "markdown",
   "metadata": {},
   "source": [
    "Все выглядит хорошо."
   ]
  },
  {
   "cell_type": "code",
   "execution_count": null,
   "metadata": {
    "scrolled": true
   },
   "outputs": [],
   "source": [
    "hist_with_wiskers(market_file, 'неоплаченные_продукты_штук_квартал', 'покупательская_активность')"
   ]
  },
  {
   "cell_type": "code",
   "execution_count": null,
   "metadata": {},
   "outputs": [],
   "source": [
    "hist_with_wiskers(market_file, 'ошибка_сервиса', 'покупательская_активность')"
   ]
  },
  {
   "cell_type": "markdown",
   "metadata": {},
   "source": [
    "Сайт работает не очень стабильно, это может сказаться на популярности сервиса..."
   ]
  },
  {
   "cell_type": "code",
   "execution_count": null,
   "metadata": {},
   "outputs": [],
   "source": [
    "hist_with_wiskers(market_file, 'страниц_за_визит', 'покупательская_активность')"
   ]
  },
  {
   "cell_type": "markdown",
   "metadata": {},
   "source": [
    "Все выглядит хорошо."
   ]
  },
  {
   "cell_type": "markdown",
   "metadata": {},
   "source": [
    "**market_money**"
   ]
  },
  {
   "cell_type": "code",
   "execution_count": null,
   "metadata": {},
   "outputs": [],
   "source": [
    "categoral_unique(market_money, 'период') "
   ]
  },
  {
   "cell_type": "code",
   "execution_count": null,
   "metadata": {},
   "outputs": [],
   "source": [
    "market_money_by_period = market_money.pivot_table(index='период', values=['выручка'], aggfunc='sum')\n",
    "market_money_by_period"
   ]
  },
  {
   "cell_type": "code",
   "execution_count": null,
   "metadata": {},
   "outputs": [],
   "source": [
    "pivot_bar_plot(market_money_by_period, 'выручка') "
   ]
  },
  {
   "cell_type": "markdown",
   "metadata": {},
   "source": [
    "Ого прямо ровно ровно."
   ]
  },
  {
   "cell_type": "code",
   "execution_count": null,
   "metadata": {
    "scrolled": true
   },
   "outputs": [],
   "source": [
    "hist_with_wiskers(market_money, 'выручка', None)"
   ]
  },
  {
   "cell_type": "markdown",
   "metadata": {},
   "source": [
    "Замечены выбросы"
   ]
  },
  {
   "cell_type": "code",
   "execution_count": null,
   "metadata": {},
   "outputs": [],
   "source": [
    "market_money.query('выручка > 100000')"
   ]
  },
  {
   "cell_type": "markdown",
   "metadata": {},
   "source": [
    "Явно выброс, от которого стоит избавиться."
   ]
  },
  {
   "cell_type": "code",
   "execution_count": null,
   "metadata": {},
   "outputs": [],
   "source": [
    "market_money = market_money[market_money['выручка'] < 100000]"
   ]
  },
  {
   "cell_type": "code",
   "execution_count": null,
   "metadata": {
    "scrolled": true
   },
   "outputs": [],
   "source": [
    "hist_with_wiskers(market_money, 'выручка', None)"
   ]
  },
  {
   "cell_type": "markdown",
   "metadata": {},
   "source": [
    "Замечены выбросы"
   ]
  },
  {
   "cell_type": "code",
   "execution_count": null,
   "metadata": {},
   "outputs": [],
   "source": [
    "market_money.query('выручка < 1')"
   ]
  },
  {
   "cell_type": "markdown",
   "metadata": {},
   "source": [
    "Периодов с нулевой выручкой. Это плохие записи, потому что мы хотим в дальнейшем использовать только тех пользователей, у которых есть активность за три месяца, а такие пустые записи явно нам помешают."
   ]
  },
  {
   "cell_type": "code",
   "execution_count": null,
   "metadata": {},
   "outputs": [],
   "source": [
    "market_money = market_money[market_money['выручка'] > 0]"
   ]
  },
  {
   "cell_type": "code",
   "execution_count": null,
   "metadata": {
    "scrolled": false
   },
   "outputs": [],
   "source": [
    "hist_with_wiskers(market_money, 'выручка', None)"
   ]
  },
  {
   "cell_type": "markdown",
   "metadata": {},
   "source": [
    "\"Выбросы\" хотела я сказать, но данные распределены равномерно"
   ]
  },
  {
   "cell_type": "markdown",
   "metadata": {},
   "source": [
    "**market_time**"
   ]
  },
  {
   "cell_type": "code",
   "execution_count": null,
   "metadata": {},
   "outputs": [],
   "source": [
    "market_time_by_period = market_time.pivot_table(index='период', values=['минут'], aggfunc='sum')\n",
    "market_time_by_period"
   ]
  },
  {
   "cell_type": "code",
   "execution_count": null,
   "metadata": {},
   "outputs": [],
   "source": [
    "pivot_bar_plot(market_time_by_period, 'минут') "
   ]
  },
  {
   "cell_type": "markdown",
   "metadata": {},
   "source": [
    "А вот и опечатка."
   ]
  },
  {
   "cell_type": "code",
   "execution_count": null,
   "metadata": {},
   "outputs": [],
   "source": [
    "market_time['период'] = market_time['период'].replace('предыдцщий_месяц', 'предыдущий_месяц')\n"
   ]
  },
  {
   "cell_type": "code",
   "execution_count": null,
   "metadata": {},
   "outputs": [],
   "source": [
    "hist_with_wiskers(market_time, 'минут', None)"
   ]
  },
  {
   "cell_type": "markdown",
   "metadata": {},
   "source": [
    "**money**"
   ]
  },
  {
   "cell_type": "code",
   "execution_count": null,
   "metadata": {},
   "outputs": [],
   "source": [
    "hist_with_wiskers(money, 'прибыль', None)"
   ]
  },
  {
   "cell_type": "markdown",
   "metadata": {},
   "source": [
    "### Выбор активных пользователей"
   ]
  },
  {
   "cell_type": "markdown",
   "metadata": {},
   "source": [
    "После того как мы исселодовали данные, нужно отобрать клиентов с активностью не менее трех месяцов. Это значит, что нам нужны записи из `market_money`, где у клиента есть покупки за все три периода `'препредыдущий_месяц', 'текущий_месяц', 'предыдущий_месяц'`."
   ]
  },
  {
   "cell_type": "code",
   "execution_count": null,
   "metadata": {},
   "outputs": [],
   "source": [
    "agg_dict = {'период': ['count']}\n",
    "grouped = market_money.groupby('id').agg(agg_dict)\n",
    "grouped.columns = ['count']\n",
    "\n",
    "grouped = grouped[grouped['count'] == 3]\n",
    "market_file = market_file[market_file['id'].isin(grouped.index)]\n",
    "len(market_file)"
   ]
  },
  {
   "cell_type": "markdown",
   "metadata": {},
   "source": [
    "Отфильтровалось всего 4 записи."
   ]
  },
  {
   "cell_type": "markdown",
   "metadata": {},
   "source": [
    "### Вывод"
   ]
  },
  {
   "cell_type": "markdown",
   "metadata": {},
   "source": [
    "На данном этапе был проведен исследовательский анализ данных. В ходе работы были исправлены опечатки в данных, которые удалось хорошо найти по составленным графикам. Так же было выявлено небольшое количество явно аномальных значений, которые были отброшены из рассмотрения. В целом данные выглядят хорошо. Так же оставили только пользователей, совершавших покупки в течении трех последних месяцев."
   ]
  },
  {
   "cell_type": "markdown",
   "metadata": {},
   "source": [
    "## Объединение таблиц"
   ]
  },
  {
   "cell_type": "markdown",
   "metadata": {},
   "source": [
    "Теперь объеденим данные из датафреймов `market_file`, `market_money`, `market_time` в одну таблицу."
   ]
  },
  {
   "cell_type": "code",
   "execution_count": null,
   "metadata": {},
   "outputs": [],
   "source": [
    "market_money_grouped = market_money.pivot_table(index=['id'], columns=[\"период\"])\n",
    "market_money_grouped.columns = ['выручка_предыдущий_месяц', 'выручка_препредыдущий_месяц', 'выручка_текущий_месяц']\n",
    "market_money_grouped['id'] = market_money_grouped.index\n",
    "\n",
    "market_time_grouped = market_time.pivot_table(index=['id'], columns=[\"период\"])\n",
    "market_time_grouped.columns = ['минут_предыдущий_месяц', 'минут_текущий_месяц']\n",
    "market_time_grouped['id'] = market_time_grouped.index\n",
    "\n",
    "market_full = market_file.join(market_money_grouped, on='id', lsuffix=\"_left\", rsuffix=\"_выручка\")\n",
    "market_full = market_full.rename(columns={'id_left':'id'})\n",
    "market_full = market_full.join(market_time_grouped, on='id', lsuffix=\"_left\", rsuffix=\"_минут\")\n",
    "market_full = market_full.rename(columns={'id_left':'id'})\n",
    "market_full = market_full.drop(['id_выручка', 'id_минут'], axis=1)\n",
    "market_full.head(5)"
   ]
  },
  {
   "cell_type": "markdown",
   "metadata": {},
   "source": [
    "### Вывод"
   ]
  },
  {
   "cell_type": "markdown",
   "metadata": {},
   "source": [
    "Теперь после объеденения датасетов все характеристики в одной таблице."
   ]
  },
  {
   "cell_type": "markdown",
   "metadata": {},
   "source": [
    "## Корреляционный анализ"
   ]
  },
  {
   "cell_type": "code",
   "execution_count": null,
   "metadata": {},
   "outputs": [],
   "source": [
    "corr_matrix = market_full.phik_matrix()\n",
    "plt.figure(figsize=(10, 10))\n",
    "sns.heatmap(corr_matrix, annot=True, cmap='coolwarm')\n",
    "plt.title('Матрица корреляции')\n",
    "plt.show()"
   ]
  },
  {
   "cell_type": "markdown",
   "metadata": {},
   "source": [
    "Так же построим матрицы корреляции для значений целевого признака отдельно."
   ]
  },
  {
   "cell_type": "code",
   "execution_count": null,
   "metadata": {},
   "outputs": [],
   "source": [
    "def build_phik_corr_matrix(df, col):\n",
    "    ax_col = 0\n",
    "    ax_row = 0\n",
    "    \n",
    "    fig, axs = plt.subplots(ncols=1, nrows=df[col].nunique(), figsize=(20,20))\n",
    "    for i in df[col].unique():\n",
    "        df_i = df[df[col] == i]\n",
    "        sns.heatmap(df_i.phik_matrix(), annot=True, cmap='cividis', ax=axs[ax_col])\n",
    "        axs[ax_col].set_title(i)\n",
    "        ax_col+=1\n",
    "        if ax_col > 1:\n",
    "            ax_col=0\n",
    "            ax_row+=1  \n",
    "    fig.tight_layout()\n",
    "    plt.show()"
   ]
  },
  {
   "cell_type": "code",
   "execution_count": null,
   "metadata": {},
   "outputs": [],
   "source": [
    "build_phik_corr_matrix(market_full, 'покупательская_активность')"
   ]
  },
  {
   "cell_type": "markdown",
   "metadata": {},
   "source": [
    "### Вывод"
   ]
  },
  {
   "cell_type": "markdown",
   "metadata": {},
   "source": [
    "Целевым признаком является `Покупательская_активность` и вот список полей, которые имеют хоть корреляцию с ним: `Маркет_актив_6_мес`, `Акционные_покупки`, `Средний_просмотр_категорий_за_визит`, `Неоплаченные_продукты_штук_квартал`, `Страниц_за_визит`, `Выручка_препредыдущий_месяц`, `минут_предыдущий_месяц`, `минут_текущий_месяц`.  \n",
    "Среди признаков замечана только одна более менее сильная корреляция `Выручка_предыдущий_месяц`, `Выручка_текущий_месяц`. Но значение корреляции меньше 0.9 поэтому не будем удалять признаки.  \n",
    "Так же график показывает странную корреляцию `Покупательская_активность` и `id`, так что `id` так же уберем из датасета и так как он нам еще понадобиться то превратим его в индекс датасета."
   ]
  },
  {
   "cell_type": "markdown",
   "metadata": {},
   "source": [
    "## Использование пайплайнов"
   ]
  },
  {
   "cell_type": "markdown",
   "metadata": {},
   "source": [
    "Приступим к непосредственному построению модели. Мы переберем модели KNeighborsClassifier(), DecisionTreeClassifier(), LogisticRegression() и  SVC() используя пайплайны.  \n"
   ]
  },
  {
   "cell_type": "markdown",
   "metadata": {},
   "source": [
    "Подготовим данные. Закодируем целевой признак в значение 0 и 1. А так же превратим колонку `Акционные_покупки` в категоральный признак."
   ]
  },
  {
   "cell_type": "code",
   "execution_count": null,
   "metadata": {},
   "outputs": [],
   "source": [
    "market_full['покупательская_активность'] = market_full['покупательская_активность']\\\n",
    ".apply( lambda x: 1 if x=='Снизилась' else 0 )\n",
    "market_full['покупательская_активность'] = market_full['покупательская_активность'].astype(int)    "
   ]
  },
  {
   "cell_type": "code",
   "execution_count": null,
   "metadata": {},
   "outputs": [],
   "source": [
    "market_full['акционные_покупки_категория'] = market_full['акционные_покупки']\\\n",
    ".apply( lambda x: 'Часто покупает по акции' if x>= 0.5 else 'Редко покупает по акции' )\n",
    "market_full = market_full.drop(['акционные_покупки'], axis=1)"
   ]
  },
  {
   "cell_type": "code",
   "execution_count": null,
   "metadata": {},
   "outputs": [],
   "source": [
    "market_full = market_full.set_index('id')"
   ]
  },
  {
   "cell_type": "code",
   "execution_count": null,
   "metadata": {},
   "outputs": [],
   "source": [
    "market_full.head()"
   ]
  },
  {
   "cell_type": "code",
   "execution_count": null,
   "metadata": {},
   "outputs": [],
   "source": [
    "# X = market_full.drop(['Покупательская_активность'], axis=1)\n",
    "X = market_full.drop(['покупательская_активность'], axis=1)\n",
    "y = market_full['покупательская_активность']\n",
    "X_train, X_test, y_train, y_test = train_test_split(\n",
    "    X,\n",
    "    y,\n",
    "    test_size = TEST_SIZE, \n",
    "    random_state = RANDOM_STATE,\n",
    "    stratify = y)"
   ]
  },
  {
   "cell_type": "code",
   "execution_count": null,
   "metadata": {},
   "outputs": [],
   "source": [
    "X_train.head()"
   ]
  },
  {
   "cell_type": "code",
   "execution_count": null,
   "metadata": {},
   "outputs": [],
   "source": [
    "ohe_columns = ['разрешить_сообщать', 'популярная_категория', 'тип_сервиса']\n",
    "ord_columns = ['акционные_покупки_категория']\n",
    "num_columns = ['маркет_актив_6_мес', 'маркет_актив_тек_мес', 'маркет_актив_тек_мес', \n",
    "               'длительность', 'средний_просмотр_категорий_за_визит',\n",
    "               'неоплаченные_продукты_штук_квартал', 'ошибка_сервиса', 'страниц_за_визит', \n",
    "               'выручка_предыдущий_месяц', 'выручка_препредыдущий_месяц', 'выручка_текущий_месяц', \n",
    "               'минут_предыдущий_месяц', 'минут_текущий_месяц']"
   ]
  },
  {
   "cell_type": "code",
   "execution_count": null,
   "metadata": {},
   "outputs": [],
   "source": [
    "ohe_pipe = Pipeline(\n",
    "    [\n",
    "        ('simpleImputer_ohe', SimpleImputer(missing_values=np.nan, strategy='most_frequent')),\n",
    "        ('ohe', OneHotEncoder(drop = 'first', handle_unknown='error', sparse=False))\n",
    "    ]\n",
    ")"
   ]
  },
  {
   "cell_type": "code",
   "execution_count": null,
   "metadata": {},
   "outputs": [],
   "source": [
    "ord_pipe = Pipeline(\n",
    "    [\n",
    "        (\n",
    "            'simple_imputer_ord_before',\n",
    "            SimpleImputer(missing_values=np.nan, strategy='most_frequent')\n",
    "        ),\n",
    "        (\n",
    "            'ord',\n",
    "            OrdinalEncoder(categories=[\n",
    "                                      ['Редко покупает по акции','Часто покупает по акции']],\n",
    "                          handle_unknown='use_encoded_value',\n",
    "                          unknown_value=np.nan)\n",
    "        ),\n",
    "        (\n",
    "            'simple_imputer_ord_after',\n",
    "            SimpleImputer(missing_values=np.nan, strategy='most_frequent')\n",
    "        )\n",
    "    ]\n",
    ")"
   ]
  },
  {
   "cell_type": "code",
   "execution_count": null,
   "metadata": {},
   "outputs": [],
   "source": [
    "data_preprocessor = ColumnTransformer(\n",
    "    [('ohe', ohe_pipe, ohe_columns),\n",
    "     ('ord', ord_pipe, ord_columns),\n",
    "     ('num', MinMaxScaler(), num_columns)\n",
    "    ], \n",
    "    remainder='passthrough'\n",
    ")"
   ]
  },
  {
   "cell_type": "code",
   "execution_count": null,
   "metadata": {},
   "outputs": [],
   "source": [
    "pipe_final = Pipeline([\n",
    "    ('preprocessor', data_preprocessor),\n",
    "    ('models', DecisionTreeClassifier(random_state=RANDOM_STATE))\n",
    "])"
   ]
  },
  {
   "cell_type": "code",
   "execution_count": null,
   "metadata": {},
   "outputs": [],
   "source": [
    "param_grid = [\n",
    "    # словарь для модели DecisionTreeClassifier()\n",
    "    {\n",
    "        'models': [DecisionTreeClassifier(random_state=RANDOM_STATE)],\n",
    "        'models__max_depth': range(3, 8),\n",
    "        'models__max_features': range(2,7),\n",
    "        'preprocessor__num': [StandardScaler(), MinMaxScaler(), 'passthrough']  \n",
    "    },\n",
    "    \n",
    "    # словарь для модели KNeighborsClassifier() \n",
    "    {\n",
    "        'models': [KNeighborsClassifier()],\n",
    "        'models__n_neighbors': range(2,5),\n",
    "        'preprocessor__num': [StandardScaler(), MinMaxScaler(), 'passthrough']   \n",
    "    },\n",
    "\n",
    "    # словарь для модели LogisticRegression()\n",
    "    {\n",
    "        'models': [LogisticRegression(\n",
    "            random_state=RANDOM_STATE, \n",
    "            solver='liblinear', \n",
    "            penalty='l1'\n",
    "        )],\n",
    "        'models__C': range(1,5),\n",
    "        'preprocessor__num': [StandardScaler(), MinMaxScaler(), 'passthrough']  \n",
    "    },\n",
    "    # словарь для модели SVC()\n",
    "    {\n",
    "        'models': [SVC(probability = True,random_state=RANDOM_STATE, kernel='poly')],\n",
    "        'models__degree': range(2, 3),\n",
    "        'preprocessor__num': [StandardScaler(), MinMaxScaler(), 'passthrough']\n",
    "    }\n",
    "]"
   ]
  },
  {
   "cell_type": "code",
   "execution_count": null,
   "metadata": {},
   "outputs": [],
   "source": [
    "randomized_search = RandomizedSearchCV(\n",
    "    pipe_final, \n",
    "    param_grid, \n",
    "    cv=5,\n",
    "    scoring='roc_auc',\n",
    "    random_state=RANDOM_STATE,\n",
    "    n_jobs=-1\n",
    ")"
   ]
  },
  {
   "cell_type": "code",
   "execution_count": null,
   "metadata": {
    "scrolled": true
   },
   "outputs": [],
   "source": [
    "randomized_search.fit(X_train, y_train)"
   ]
  },
  {
   "cell_type": "code",
   "execution_count": null,
   "metadata": {},
   "outputs": [],
   "source": [
    "print('Лучшая модель и её параметры:\\n\\n', randomized_search.best_estimator_)\n",
    "print ('Метрика лучшей модели на тренировочной выборке:', round(randomized_search.best_score_, 2))"
   ]
  },
  {
   "cell_type": "code",
   "execution_count": null,
   "metadata": {},
   "outputs": [],
   "source": [
    "# проверьте работу модели на тестовой выборке\n",
    "# рассчитайте прогноз на тестовых данных\n",
    "y_test_pred = randomized_search.predict(X_test)\n",
    "y_test_proba = randomized_search.predict_proba(X_test)\n",
    "print(f'Метрика ROC-AUC на тестовой выборке: {round(roc_auc_score(y_test, y_test_proba[:,1]), 2)}')"
   ]
  },
  {
   "cell_type": "code",
   "execution_count": null,
   "metadata": {},
   "outputs": [],
   "source": []
  },
  {
   "cell_type": "markdown",
   "metadata": {},
   "source": []
  },
  {
   "cell_type": "code",
   "execution_count": null,
   "metadata": {
    "scrolled": true
   },
   "outputs": [],
   "source": [
    "print(f'Метрика F1-score на тестовой выборке: {round(f1_score(y_test, y_test_pred, average=\"macro\"), 2)}')"
   ]
  },
  {
   "cell_type": "markdown",
   "metadata": {},
   "source": [
    "### Вывод"
   ]
  },
  {
   "cell_type": "markdown",
   "metadata": {},
   "source": [
    "На данном шаге исследования была найдена и обучена модель для определения снижения активности покупателей сервиса. Хорошие результаты показала модель `LogisticRegression(C=2, penalty='l1', random_state=42, solver='liblinear')` - 0.9. Метрика roc_auc для тестовой выборке показла результат 0.92 и является лучшим вариантом. Показатели очень хорошие, наша модель хорошо справляется с предсказанием. Так же метрика f1 показала  0.90.  \n",
    "\n",
    "Несмотря на дисбаланс в классах, получились высокие значения метрик. Наилучшей метрикой оказалась roc_auc, она более устойчива к изменениям в распределении классов. "
   ]
  },
  {
   "cell_type": "markdown",
   "metadata": {},
   "source": [
    "## Анализ важности признаков"
   ]
  },
  {
   "cell_type": "code",
   "execution_count": null,
   "metadata": {},
   "outputs": [],
   "source": [
    "pip install --upgrade shap"
   ]
  },
  {
   "cell_type": "code",
   "execution_count": null,
   "metadata": {
    "scrolled": false
   },
   "outputs": [],
   "source": [
    "\n",
    "import shap\n",
    "X_train_2 = pipe_final.named_steps['preprocessor'].fit_transform(X_train)\n",
    "explainer = shap.LinearExplainer(randomized_search.best_estimator_.named_steps['models'], X_train_2)\n",
    "\n",
    "X_test_2 = pipe_final.named_steps['preprocessor'].transform(X_test)\n",
    "\n",
    "feature_names = pipe_final.named_steps['preprocessor'].get_feature_names_out()\n",
    "\n",
    "X_test_2 = pd.DataFrame(X_test_2, columns=feature_names)\n",
    " \n",
    "shap_values = explainer(X_test_2)\n",
    " \n",
    "#shap.plots.bar(shap_values, max_display=30)\n",
    "\n",
    "shap.summary_plot(shap_values, plot_size=(20,9), plot_type='bar',)\n",
    "shap.plots.beeswarm(shap_values, max_display=30)\n",
    "\n"
   ]
  },
  {
   "cell_type": "markdown",
   "metadata": {},
   "source": [
    "## Сегментация покупателей"
   ]
  },
  {
   "cell_type": "markdown",
   "metadata": {},
   "source": [
    "\n",
    "Далее выявим сегмент пользователей и проведем анализ поведения пользователей в рамках этого сегмента. Наша цель - составить рекомендации для заказчика по увеличению активности данного сегмента. \n",
    "\n",
    "Были выбраны прибыль и вероятность снижения активности пользователя"
   ]
  },
  {
   "cell_type": "code",
   "execution_count": null,
   "metadata": {},
   "outputs": [],
   "source": [
    "y_test_proba = randomized_search.predict_proba(X_test)[:,1]\n",
    "y_train_proba = randomized_search.predict_proba(X_train)[:,1]"
   ]
  },
  {
   "cell_type": "code",
   "execution_count": null,
   "metadata": {},
   "outputs": [],
   "source": [
    "X_test.head(3)"
   ]
  },
  {
   "cell_type": "code",
   "execution_count": null,
   "metadata": {},
   "outputs": [],
   "source": [
    "X_test_full = X_test.copy()\n",
    "X_train_full = X_train.copy()\n",
    "X_test_full['вероятность_снижения'] = y_test_proba\n",
    "X_train_full['вероятность_снижения'] = y_train_proba\n",
    "df_full = pd.concat([X_train_full, X_test_full])\n",
    "\n",
    "money = money.set_index('id')\n",
    "df_full = df_full.join(money)\n"
   ]
  },
  {
   "cell_type": "code",
   "execution_count": null,
   "metadata": {},
   "outputs": [],
   "source": [
    "df_full.head(5)"
   ]
  },
  {
   "cell_type": "code",
   "execution_count": null,
   "metadata": {},
   "outputs": [],
   "source": [
    "\n",
    "fig = plt.figure(figsize=(10,8))\n",
    "sns.scatterplot(data=df_full, y='прибыль', x='вероятность_снижения')\n",
    "plt.xlabel('Вероятность снижения активности')\n",
    "plt.ylabel('Прибыль')\n",
    "plt.title('Зависимость вероятности снижения активности от выручки')\n",
    "plt.show()"
   ]
  },
  {
   "cell_type": "markdown",
   "metadata": {},
   "source": [
    "\n",
    "Судя по диаграмме рассеяния, зависимости между вероятностью снижения активности пользователя и прибыли нет (что по моему мнению очень странно). "
   ]
  },
  {
   "cell_type": "code",
   "execution_count": null,
   "metadata": {},
   "outputs": [],
   "source": [
    "def build_scatterplots(cat_columns):\n",
    "    for cat_col in cat_columns:\n",
    "        fig = plt.figure(figsize=(10,8))\n",
    "        sns.scatterplot(data=df_full, y='прибыль', x='вероятность_снижения', hue=cat_col)\n",
    "        plt.xlabel('Вероятность снижения активности')\n",
    "        plt.ylabel('Прибыль')\n",
    "        plt.title('Зависимость вероятности снижения активности от выручки')\n",
    "        plt.show()"
   ]
  },
  {
   "cell_type": "code",
   "execution_count": null,
   "metadata": {
    "scrolled": false
   },
   "outputs": [],
   "source": [
    "cat_columns = list(df_full.select_dtypes(include='object').columns)\n",
    "build_scatterplots(cat_columns)"
   ]
  },
  {
   "cell_type": "markdown",
   "metadata": {},
   "source": [
    "Можно обратить внимание на распределение `Акционные_покупки_категория`. Пользователи, которые часто покупают по скидке чаще всего имеют высокую вероятность снижения активности. Видимо,  сидят ждут черную пятницу.)"
   ]
  },
  {
   "cell_type": "markdown",
   "metadata": {},
   "source": [
    "Проанализируем этот сегмент. Для этого добавим колонку и в ней промаркируем пользователей, которые часто покупают по акции и имеют вероятность снижения активности более 80%."
   ]
  },
  {
   "cell_type": "code",
   "execution_count": null,
   "metadata": {},
   "outputs": [],
   "source": [
    "df_full.head(4)"
   ]
  },
  {
   "cell_type": "code",
   "execution_count": null,
   "metadata": {},
   "outputs": [],
   "source": [
    "df_full['сегмент'] = df_full\\\n",
    ".apply( lambda row: 'Исследуемый сегмент' \\\n",
    "        if row['вероятность_снижения'] > 0.8 and row['акционные_покупки_категория']=='Часто покупает по акции' \\\n",
    "        else 'Остальные пользователи' \\\n",
    "      , axis=1)\n"
   ]
  },
  {
   "cell_type": "code",
   "execution_count": null,
   "metadata": {},
   "outputs": [],
   "source": [
    "\n",
    "categoral_unique(df_full, 'популярная_категория')"
   ]
  },
  {
   "cell_type": "markdown",
   "metadata": {},
   "source": [
    "Самая популярная категория оказалась \"товары для детей\" и \"домашний текстиль\". Обе категории относятся к людям, которые сидят дома и покупают товары домой (мамочки товары для детей, домашний текстиль - уют дома). Также товары для детей крайне дорогие, их выгодно покупать со скидками, как и домашний текстиль.\n",
    "\n",
    "Чуть менее популярная категория косметики и аксесуаров. В какой-то момент времени косметика на маркетплейсах была действительно дешевле, чем в других магазинах, а также ее ассортимент значительно выше. Возможно, связано с этим"
   ]
  },
  {
   "cell_type": "code",
   "execution_count": null,
   "metadata": {},
   "outputs": [],
   "source": [
    "categoral_unique(df_full, 'тип_сервиса')"
   ]
  },
  {
   "cell_type": "markdown",
   "metadata": {},
   "source": [
    "Люди по скидке покупают премиум. Наверное, именно поэтому у них есть деньги на премиум, ведь они экономят на всем подряд)"
   ]
  },
  {
   "cell_type": "code",
   "execution_count": null,
   "metadata": {},
   "outputs": [],
   "source": [
    "histogram(df_full, 'страниц_за_визит', 'сегмент')"
   ]
  },
  {
   "cell_type": "markdown",
   "metadata": {},
   "source": [
    "Видно по пользователи по скидке просматривают меньше страниц. Похоже на то что эти пользователи не ищут и выбирают, а покупают целенаправленно. Или они попадают на скидки, когда ищут что-то конкретное?"
   ]
  },
  {
   "cell_type": "code",
   "execution_count": null,
   "metadata": {},
   "outputs": [],
   "source": [
    "histogram(df_full, 'средний_просмотр_категорий_за_визит', 'сегмент')"
   ]
  },
  {
   "cell_type": "markdown",
   "metadata": {},
   "source": [
    "А в среднее кол-во просматриваемых категорий не различается."
   ]
  },
  {
   "cell_type": "code",
   "execution_count": null,
   "metadata": {},
   "outputs": [],
   "source": [
    "histogram(df_full, 'неоплаченные_продукты_штук_квартал', 'сегмент')"
   ]
  },
  {
   "cell_type": "code",
   "execution_count": null,
   "metadata": {},
   "outputs": [],
   "source": [
    "df[df_full['неоплаченные_продукты_штук_квартал'].describe()"
   ]
  },
  {
   "cell_type": "markdown",
   "metadata": {},
   "source": [
    "Все пользователи склонны скроллить сервис, но не покупать, однако график смещается влево, это говорит о том, что они делают это значительно реже, чем от них ожидается. Возможно, они добавляют в корзины варианты того, что хотят купить, и выбирают лишь один вариант из 2-3 выбранных\n",
    "\n",
    "Что касается пользователь акционных товаров, есть пик в районе 9-10. Это значит, что эти пользователи чуть более склоны набирать товары в корзину и оставлять их там до лучших времен. \n"
   ]
  },
  {
   "cell_type": "markdown",
   "metadata": {},
   "source": [
    "Теперь сравним количество маркетинговых коммуникаций у покупателей по акции и всего массива пользователей. "
   ]
  },
  {
   "cell_type": "code",
   "execution_count": null,
   "metadata": {},
   "outputs": [],
   "source": [
    "histogram(df_full, 'маркет_актив_6_мес', 'сегмент')"
   ]
  },
  {
   "cell_type": "code",
   "execution_count": null,
   "metadata": {},
   "outputs": [],
   "source": [
    "histogram(df_full, 'маркет_актив_тек_мес', 'сегмент')"
   ]
  },
  {
   "cell_type": "markdown",
   "metadata": {},
   "source": [
    "Покупатели по акции получали такое же количество внимания от маркетплейса, как и все остальные пользователи. Это значит что магазин не предоставляет им каких либо дополнительных источников получения информации о скидках. "
   ]
  },
  {
   "cell_type": "markdown",
   "metadata": {},
   "source": [
    "\n",
    "Попробуем описать исследуемый нами сегмент. Это пользователи, которые проводят не так много времени на сайте. Они не сравнивают товары, не выбирают лучший, они просмотривают один-два товара и покупают.  \n",
    "\n",
    "Рекомендации: \n",
    "1. Сегментировать рассылки, а значит и сегментировать пользователей. Выявить, какими категориями пользователь интересуется больше и присылать ему информацию по его потребностям\n",
    "2. Преобразовать главную страницу и разместить на ней скидки на категории, которыми пользователь ранее интересовался. Возможно, не в рамках данного сервиса, а значит подключить SEO и другие источники информации. На основе этой информации можно также улучшить качество рассылок\n"
   ]
  },
  {
   "cell_type": "markdown",
   "metadata": {},
   "source": [
    "## Общий вывод"
   ]
  },
  {
   "cell_type": "markdown",
   "metadata": {},
   "source": [
    "\n",
    "\n",
    "В рамках исследования были проделаны следующие шаги.  \n",
    "  \n",
    "- Загрузка данных \n",
    "\n",
    "Данные были загружены в датафреймы библиотеки pandas и изучены для дальнейшей работы, намечен план работ\n",
    "\n",
    "- Предобработка данных\n",
    "\n",
    "В рамках намеченного плана были, \n",
    "1. Были изменены названия столбцов\n",
    "2. Приведены типы данных в соответствие с типами данных в столбцах\n",
    "3. Произведен поиск явных и неявных дубликатов, явных и неявных пропусков \n",
    "\n",
    "- Исследовательский анализ данных\n",
    "\n",
    "На этом этапе были построены диаграммы распределения всех признаков. С помощью графиков были обнаружены и исправлены опечатки в категоральных признаках. Также было замечено разделение данных на две группы: `Акционные_покупки` явно выделял две группы пользователей поэтому признак был превращен в категориальный. \n",
    "\n",
    "- Корреляционный анализ данных\n",
    "\n",
    "Целевым признаком является `Покупательская_активность` и вот список полей, которые имеют хоть корреляцию с ним: `Маркет_актив_6_мес`, `Акционные_покупки`, `Средний_просмотр_категорий_за_визит`, `Неоплаченные_продукты_штук_квартал`, `Страниц_за_визит`, `Выручка_препредыдущий_месяц`, `минут_предыдущий_месяц`, `минут_текущий_месяц`.  \n",
    "Так же график показал сильную зависимость между целевым признаком и `id` так что в дальнейшем при подготовке данных к обучению модели признак идентификатор был удален.\n",
    "Сильной корреляции между другими признаками не было выявлено поэтому все остальные признаки были оставленны в датасете.\n",
    "\n",
    "- Объеденение таблиц\n",
    "\n",
    "Датасеты `market_file`, `market_money`, `market_time` были объеденены в один датафрейм.\n",
    "\n",
    "- Обучение модели\n",
    "\n",
    "С использованием пайпланов из библиотеки sklearn были обучены модели KNeighborsClassifier(), DecisionTreeClassifier(), LogisticRegression() и SVC(). При обучении моделей средстави пайплана преебирались некоторое количество гиперпараметров моделей с целью нахождения модели, которая даст лучший результат.  \n",
    "По результатам обучения лучшей стала модель `LogisticRegression(C=2, penalty='l1', random_state=42, solver='liblinear')`. Метрика roc_auc для тренеровочной выборки 0.90 для тестовой 0.89. Удивительно, но значения метрики имеют такой низкий разброс. И даже наличие дисбаланса в целевом признаке не помешало получить значение метрики f1=0.90.\n",
    "\n",
    "- Анализ важности признаков и сегментация пользователей\n",
    "\n",
    "Было описано поведение выделенного сегмента пользователей \"пользователи часто покупают по скидке и пользователи имеют высокую вероятность снижения покупательской активности\". Это пользователи, которые проводят не так много времени на сайте. Они не сравнивают товары, не выбирают лучший, они просмотривают один-два товара и покупают.\n",
    "\n",
    "Рекомендации, которые можно дать по улучшению работы с пользователями сегмента \"пользователи часто покупают по скидке и пользователи имеют высокую вероятность снижения покупательской активности\":\n",
    "\n",
    "1. Сегментировать рассылки, а значит и сегментировать пользователей. Выявить, какими категориями пользователь интересуется больше и присылать ему информацию по его потребностям\n",
    "2. Преобразовать главную страницу и разместить на ней скидки на категории, которыми пользователь ранее интересовался. Возможно, не в рамках данного сервиса, а значит подключить SEO и другие источники информации. На основе этой информации можно также улучшить качество рассылок\n",
    "\n"
   ]
  },
  {
   "cell_type": "code",
   "execution_count": null,
   "metadata": {},
   "outputs": [],
   "source": []
  }
 ],
 "metadata": {
  "ExecuteTimeLog": [
   {
    "duration": 14615,
    "start_time": "2024-09-27T20:11:00.833Z"
   },
   {
    "duration": 1458,
    "start_time": "2024-09-27T20:11:15.451Z"
   },
   {
    "duration": 620,
    "start_time": "2024-09-27T20:11:16.911Z"
   },
   {
    "duration": 3,
    "start_time": "2024-09-27T20:11:17.534Z"
   },
   {
    "duration": 435,
    "start_time": "2024-09-27T20:11:17.539Z"
   },
   {
    "duration": 13,
    "start_time": "2024-09-27T20:11:17.977Z"
   },
   {
    "duration": 36,
    "start_time": "2024-09-27T20:11:17.992Z"
   },
   {
    "duration": 35,
    "start_time": "2024-09-27T20:11:18.030Z"
   },
   {
    "duration": 11,
    "start_time": "2024-09-27T20:11:18.067Z"
   },
   {
    "duration": 73,
    "start_time": "2024-09-27T20:11:18.081Z"
   },
   {
    "duration": 18,
    "start_time": "2024-09-27T20:11:18.155Z"
   },
   {
    "duration": 10,
    "start_time": "2024-09-27T20:11:18.175Z"
   },
   {
    "duration": 9,
    "start_time": "2024-09-27T20:11:18.187Z"
   },
   {
    "duration": 15,
    "start_time": "2024-09-27T20:11:18.197Z"
   },
   {
    "duration": 10,
    "start_time": "2024-09-27T20:11:18.214Z"
   },
   {
    "duration": 37,
    "start_time": "2024-09-27T20:11:18.225Z"
   },
   {
    "duration": 21,
    "start_time": "2024-09-27T20:11:18.264Z"
   },
   {
    "duration": 3,
    "start_time": "2024-09-27T20:11:18.286Z"
   },
   {
    "duration": 7,
    "start_time": "2024-09-27T20:11:18.291Z"
   },
   {
    "duration": 8,
    "start_time": "2024-09-27T20:11:18.300Z"
   },
   {
    "duration": 3,
    "start_time": "2024-09-27T20:11:18.309Z"
   },
   {
    "duration": 43,
    "start_time": "2024-09-27T20:11:18.314Z"
   },
   {
    "duration": 12,
    "start_time": "2024-09-27T20:11:18.358Z"
   },
   {
    "duration": 10,
    "start_time": "2024-09-27T20:11:18.372Z"
   },
   {
    "duration": 29,
    "start_time": "2024-09-27T20:11:18.384Z"
   },
   {
    "duration": 8,
    "start_time": "2024-09-27T20:11:18.415Z"
   },
   {
    "duration": 4,
    "start_time": "2024-09-27T20:11:18.425Z"
   },
   {
    "duration": 37,
    "start_time": "2024-09-27T20:11:18.434Z"
   },
   {
    "duration": 10,
    "start_time": "2024-09-27T20:11:18.473Z"
   },
   {
    "duration": 7,
    "start_time": "2024-09-27T20:11:18.485Z"
   },
   {
    "duration": 9,
    "start_time": "2024-09-27T20:11:18.494Z"
   },
   {
    "duration": 172,
    "start_time": "2024-09-27T20:11:18.505Z"
   },
   {
    "duration": 137,
    "start_time": "2024-09-27T20:11:18.679Z"
   },
   {
    "duration": 5,
    "start_time": "2024-09-27T20:11:18.818Z"
   },
   {
    "duration": 171,
    "start_time": "2024-09-27T20:11:18.825Z"
   },
   {
    "duration": 436,
    "start_time": "2024-09-27T20:11:18.998Z"
   },
   {
    "duration": 33,
    "start_time": "2024-09-27T20:11:19.437Z"
   },
   {
    "duration": 489,
    "start_time": "2024-09-27T20:11:19.472Z"
   },
   {
    "duration": 522,
    "start_time": "2024-09-27T20:11:19.963Z"
   },
   {
    "duration": 425,
    "start_time": "2024-09-27T20:11:20.487Z"
   },
   {
    "duration": 217,
    "start_time": "2024-09-27T20:11:20.914Z"
   },
   {
    "duration": 450,
    "start_time": "2024-09-27T20:11:21.133Z"
   },
   {
    "duration": 424,
    "start_time": "2024-09-27T20:11:21.585Z"
   },
   {
    "duration": 429,
    "start_time": "2024-09-27T20:11:22.011Z"
   },
   {
    "duration": 556,
    "start_time": "2024-09-27T20:11:22.442Z"
   },
   {
    "duration": 179,
    "start_time": "2024-09-27T20:11:23.000Z"
   },
   {
    "duration": 14,
    "start_time": "2024-09-27T20:11:23.181Z"
   },
   {
    "duration": 197,
    "start_time": "2024-09-27T20:11:23.197Z"
   },
   {
    "duration": 316,
    "start_time": "2024-09-27T20:11:23.395Z"
   },
   {
    "duration": 9,
    "start_time": "2024-09-27T20:11:23.713Z"
   },
   {
    "duration": 5,
    "start_time": "2024-09-27T20:11:23.724Z"
   },
   {
    "duration": 343,
    "start_time": "2024-09-27T20:11:23.731Z"
   },
   {
    "duration": 9,
    "start_time": "2024-09-27T20:11:24.076Z"
   },
   {
    "duration": 68,
    "start_time": "2024-09-27T20:11:24.087Z"
   },
   {
    "duration": 336,
    "start_time": "2024-09-27T20:11:24.157Z"
   },
   {
    "duration": 13,
    "start_time": "2024-09-27T20:11:24.495Z"
   },
   {
    "duration": 176,
    "start_time": "2024-09-27T20:11:24.510Z"
   },
   {
    "duration": 4,
    "start_time": "2024-09-27T20:11:24.688Z"
   },
   {
    "duration": 347,
    "start_time": "2024-09-27T20:11:24.693Z"
   },
   {
    "duration": 448,
    "start_time": "2024-09-27T20:11:25.042Z"
   },
   {
    "duration": 11,
    "start_time": "2024-09-27T20:11:25.492Z"
   },
   {
    "duration": 60,
    "start_time": "2024-09-27T20:11:25.505Z"
   },
   {
    "duration": 3354,
    "start_time": "2024-09-27T20:11:25.567Z"
   },
   {
    "duration": 6,
    "start_time": "2024-09-27T20:11:28.922Z"
   },
   {
    "duration": 7321,
    "start_time": "2024-09-27T20:11:28.929Z"
   },
   {
    "duration": 7,
    "start_time": "2024-09-27T20:11:36.256Z"
   },
   {
    "duration": 66,
    "start_time": "2024-09-27T20:11:36.266Z"
   },
   {
    "duration": 47,
    "start_time": "2024-09-27T20:11:36.333Z"
   },
   {
    "duration": 145,
    "start_time": "2024-09-27T20:11:36.382Z"
   },
   {
    "duration": 0,
    "start_time": "2024-09-27T20:11:40.458Z"
   },
   {
    "duration": 0,
    "start_time": "2024-09-27T20:11:40.459Z"
   },
   {
    "duration": 0,
    "start_time": "2024-09-27T20:11:40.462Z"
   },
   {
    "duration": 0,
    "start_time": "2024-09-27T20:11:40.462Z"
   },
   {
    "duration": 0,
    "start_time": "2024-09-27T20:11:40.464Z"
   },
   {
    "duration": 0,
    "start_time": "2024-09-27T20:11:40.465Z"
   },
   {
    "duration": 0,
    "start_time": "2024-09-27T20:11:40.466Z"
   },
   {
    "duration": 0,
    "start_time": "2024-09-27T20:11:40.467Z"
   },
   {
    "duration": 0,
    "start_time": "2024-09-27T20:11:40.469Z"
   },
   {
    "duration": 0,
    "start_time": "2024-09-27T20:11:40.470Z"
   },
   {
    "duration": 0,
    "start_time": "2024-09-27T20:11:40.471Z"
   },
   {
    "duration": 0,
    "start_time": "2024-09-27T20:11:40.472Z"
   },
   {
    "duration": 0,
    "start_time": "2024-09-27T20:11:40.473Z"
   },
   {
    "duration": 0,
    "start_time": "2024-09-27T20:11:40.474Z"
   },
   {
    "duration": 0,
    "start_time": "2024-09-27T20:11:40.475Z"
   },
   {
    "duration": 0,
    "start_time": "2024-09-27T20:11:40.476Z"
   },
   {
    "duration": 0,
    "start_time": "2024-09-27T20:11:40.478Z"
   },
   {
    "duration": 0,
    "start_time": "2024-09-27T20:11:40.479Z"
   },
   {
    "duration": 0,
    "start_time": "2024-09-27T20:11:40.480Z"
   },
   {
    "duration": 0,
    "start_time": "2024-09-27T20:11:40.482Z"
   },
   {
    "duration": 0,
    "start_time": "2024-09-27T20:11:40.483Z"
   },
   {
    "duration": 0,
    "start_time": "2024-09-27T20:11:40.484Z"
   },
   {
    "duration": 0,
    "start_time": "2024-09-27T20:11:40.485Z"
   },
   {
    "duration": 0,
    "start_time": "2024-09-27T20:11:40.486Z"
   },
   {
    "duration": 0,
    "start_time": "2024-09-27T20:11:40.487Z"
   },
   {
    "duration": 0,
    "start_time": "2024-09-27T20:11:40.489Z"
   },
   {
    "duration": 0,
    "start_time": "2024-09-27T20:11:40.490Z"
   },
   {
    "duration": 0,
    "start_time": "2024-09-27T20:11:40.492Z"
   },
   {
    "duration": 0,
    "start_time": "2024-09-27T20:11:40.493Z"
   },
   {
    "duration": 0,
    "start_time": "2024-09-27T20:11:40.556Z"
   },
   {
    "duration": 0,
    "start_time": "2024-09-27T20:11:40.557Z"
   },
   {
    "duration": 0,
    "start_time": "2024-09-27T20:11:40.559Z"
   },
   {
    "duration": 0,
    "start_time": "2024-09-27T20:11:40.560Z"
   },
   {
    "duration": 0,
    "start_time": "2024-09-27T20:11:40.562Z"
   },
   {
    "duration": 0,
    "start_time": "2024-09-27T20:11:40.563Z"
   },
   {
    "duration": 0,
    "start_time": "2024-09-27T20:11:40.564Z"
   },
   {
    "duration": 0,
    "start_time": "2024-09-27T20:11:40.565Z"
   },
   {
    "duration": 0,
    "start_time": "2024-09-27T20:11:40.566Z"
   },
   {
    "duration": 0,
    "start_time": "2024-09-27T20:11:40.568Z"
   },
   {
    "duration": 0,
    "start_time": "2024-09-27T20:11:40.568Z"
   },
   {
    "duration": 0,
    "start_time": "2024-09-27T20:11:40.569Z"
   },
   {
    "duration": 0,
    "start_time": "2024-09-27T20:11:40.570Z"
   },
   {
    "duration": 0,
    "start_time": "2024-09-27T20:11:40.571Z"
   },
   {
    "duration": 0,
    "start_time": "2024-09-27T20:11:40.573Z"
   },
   {
    "duration": 0,
    "start_time": "2024-09-27T20:11:40.574Z"
   },
   {
    "duration": 0,
    "start_time": "2024-09-27T20:11:40.575Z"
   },
   {
    "duration": 0,
    "start_time": "2024-09-27T20:11:40.576Z"
   },
   {
    "duration": 0,
    "start_time": "2024-09-27T20:11:40.577Z"
   },
   {
    "duration": 0,
    "start_time": "2024-09-27T20:11:40.578Z"
   },
   {
    "duration": 0,
    "start_time": "2024-09-27T20:11:40.580Z"
   },
   {
    "duration": 0,
    "start_time": "2024-09-27T20:11:40.581Z"
   },
   {
    "duration": 0,
    "start_time": "2024-09-27T20:11:40.582Z"
   },
   {
    "duration": 0,
    "start_time": "2024-09-27T20:11:40.583Z"
   },
   {
    "duration": 0,
    "start_time": "2024-09-27T20:11:40.584Z"
   },
   {
    "duration": 0,
    "start_time": "2024-09-27T20:11:40.585Z"
   },
   {
    "duration": 0,
    "start_time": "2024-09-27T20:11:40.586Z"
   },
   {
    "duration": 0,
    "start_time": "2024-09-27T20:11:40.587Z"
   },
   {
    "duration": 0,
    "start_time": "2024-09-27T20:11:40.588Z"
   },
   {
    "duration": 0,
    "start_time": "2024-09-27T20:11:40.589Z"
   },
   {
    "duration": 0,
    "start_time": "2024-09-27T20:11:40.590Z"
   },
   {
    "duration": 0,
    "start_time": "2024-09-27T20:11:40.591Z"
   },
   {
    "duration": 0,
    "start_time": "2024-09-27T20:11:40.656Z"
   },
   {
    "duration": 0,
    "start_time": "2024-09-27T20:11:40.657Z"
   },
   {
    "duration": 0,
    "start_time": "2024-09-27T20:11:40.658Z"
   },
   {
    "duration": 0,
    "start_time": "2024-09-27T20:11:40.659Z"
   },
   {
    "duration": 0,
    "start_time": "2024-09-27T20:11:40.661Z"
   },
   {
    "duration": 0,
    "start_time": "2024-09-27T20:11:40.661Z"
   },
   {
    "duration": 0,
    "start_time": "2024-09-27T20:11:40.663Z"
   },
   {
    "duration": 1,
    "start_time": "2024-09-27T20:11:40.663Z"
   },
   {
    "duration": 0,
    "start_time": "2024-09-27T20:11:40.665Z"
   },
   {
    "duration": 0,
    "start_time": "2024-09-27T20:11:40.666Z"
   },
   {
    "duration": 0,
    "start_time": "2024-09-27T20:11:40.667Z"
   },
   {
    "duration": 0,
    "start_time": "2024-09-27T20:11:40.668Z"
   },
   {
    "duration": 0,
    "start_time": "2024-09-27T20:11:40.670Z"
   },
   {
    "duration": 0,
    "start_time": "2024-09-27T20:11:40.671Z"
   },
   {
    "duration": 0,
    "start_time": "2024-09-27T20:11:40.672Z"
   },
   {
    "duration": 0,
    "start_time": "2024-09-27T20:11:40.673Z"
   },
   {
    "duration": 0,
    "start_time": "2024-09-27T20:11:40.676Z"
   },
   {
    "duration": 0,
    "start_time": "2024-09-27T20:11:40.678Z"
   },
   {
    "duration": 0,
    "start_time": "2024-09-27T20:11:40.679Z"
   },
   {
    "duration": 0,
    "start_time": "2024-09-27T20:11:40.680Z"
   },
   {
    "duration": 0,
    "start_time": "2024-09-27T20:11:40.681Z"
   },
   {
    "duration": 0,
    "start_time": "2024-09-27T20:11:40.683Z"
   },
   {
    "duration": 0,
    "start_time": "2024-09-27T20:11:40.684Z"
   },
   {
    "duration": 0,
    "start_time": "2024-09-27T20:11:40.685Z"
   },
   {
    "duration": 0,
    "start_time": "2024-09-27T20:11:40.686Z"
   },
   {
    "duration": 0,
    "start_time": "2024-09-27T20:11:40.687Z"
   },
   {
    "duration": 1,
    "start_time": "2024-09-27T20:11:40.688Z"
   },
   {
    "duration": 0,
    "start_time": "2024-09-27T20:11:40.690Z"
   },
   {
    "duration": 0,
    "start_time": "2024-09-27T20:11:40.691Z"
   },
   {
    "duration": 0,
    "start_time": "2024-09-27T20:11:40.756Z"
   },
   {
    "duration": 0,
    "start_time": "2024-09-27T20:11:40.756Z"
   },
   {
    "duration": 0,
    "start_time": "2024-09-27T20:11:40.758Z"
   },
   {
    "duration": 0,
    "start_time": "2024-09-27T20:11:40.760Z"
   },
   {
    "duration": 0,
    "start_time": "2024-09-27T20:11:40.761Z"
   },
   {
    "duration": 1,
    "start_time": "2024-09-27T20:11:40.762Z"
   },
   {
    "duration": 0,
    "start_time": "2024-09-27T20:11:40.764Z"
   },
   {
    "duration": 0,
    "start_time": "2024-09-27T20:11:40.765Z"
   },
   {
    "duration": 0,
    "start_time": "2024-09-27T20:11:40.767Z"
   },
   {
    "duration": 0,
    "start_time": "2024-09-27T20:11:40.769Z"
   },
   {
    "duration": 0,
    "start_time": "2024-09-27T20:11:40.771Z"
   },
   {
    "duration": 7943,
    "start_time": "2024-09-27T20:12:08.709Z"
   },
   {
    "duration": 4,
    "start_time": "2024-09-27T20:12:16.655Z"
   },
   {
    "duration": 14,
    "start_time": "2024-09-27T20:12:16.661Z"
   },
   {
    "duration": 20,
    "start_time": "2024-09-27T20:12:16.677Z"
   },
   {
    "duration": 94,
    "start_time": "2024-09-27T20:12:16.699Z"
   },
   {
    "duration": 16,
    "start_time": "2024-09-27T20:12:16.794Z"
   },
   {
    "duration": 14,
    "start_time": "2024-09-27T20:12:16.812Z"
   },
   {
    "duration": 81,
    "start_time": "2024-09-27T20:12:16.829Z"
   },
   {
    "duration": 11,
    "start_time": "2024-09-27T20:12:16.912Z"
   },
   {
    "duration": 8,
    "start_time": "2024-09-27T20:12:16.927Z"
   },
   {
    "duration": 25,
    "start_time": "2024-09-27T20:12:16.937Z"
   },
   {
    "duration": 11,
    "start_time": "2024-09-27T20:12:16.964Z"
   },
   {
    "duration": 12,
    "start_time": "2024-09-27T20:12:16.976Z"
   },
   {
    "duration": 15,
    "start_time": "2024-09-27T20:12:16.990Z"
   },
   {
    "duration": 11,
    "start_time": "2024-09-27T20:12:17.007Z"
   },
   {
    "duration": 37,
    "start_time": "2024-09-27T20:12:17.020Z"
   },
   {
    "duration": 115,
    "start_time": "2024-09-27T20:12:17.058Z"
   },
   {
    "duration": 3,
    "start_time": "2024-09-27T20:12:17.174Z"
   },
   {
    "duration": 31,
    "start_time": "2024-09-27T20:12:17.179Z"
   },
   {
    "duration": 11,
    "start_time": "2024-09-27T20:12:17.212Z"
   },
   {
    "duration": 5,
    "start_time": "2024-09-27T20:12:17.225Z"
   },
   {
    "duration": 18,
    "start_time": "2024-09-27T20:12:17.232Z"
   },
   {
    "duration": 22,
    "start_time": "2024-09-27T20:12:17.252Z"
   },
   {
    "duration": 11,
    "start_time": "2024-09-27T20:12:17.276Z"
   },
   {
    "duration": 14,
    "start_time": "2024-09-27T20:12:17.288Z"
   },
   {
    "duration": 10,
    "start_time": "2024-09-27T20:12:17.304Z"
   },
   {
    "duration": 11,
    "start_time": "2024-09-27T20:12:17.315Z"
   },
   {
    "duration": 30,
    "start_time": "2024-09-27T20:12:17.331Z"
   },
   {
    "duration": 10,
    "start_time": "2024-09-27T20:12:17.363Z"
   },
   {
    "duration": 11,
    "start_time": "2024-09-27T20:12:17.374Z"
   },
   {
    "duration": 22,
    "start_time": "2024-09-27T20:12:17.387Z"
   },
   {
    "duration": 215,
    "start_time": "2024-09-27T20:12:17.410Z"
   },
   {
    "duration": 161,
    "start_time": "2024-09-27T20:12:17.627Z"
   },
   {
    "duration": 4,
    "start_time": "2024-09-27T20:12:17.789Z"
   },
   {
    "duration": 166,
    "start_time": "2024-09-27T20:12:17.795Z"
   },
   {
    "duration": 461,
    "start_time": "2024-09-27T20:12:17.963Z"
   },
   {
    "duration": 34,
    "start_time": "2024-09-27T20:12:18.425Z"
   },
   {
    "duration": 462,
    "start_time": "2024-09-27T20:12:18.460Z"
   },
   {
    "duration": 578,
    "start_time": "2024-09-27T20:12:18.924Z"
   },
   {
    "duration": 414,
    "start_time": "2024-09-27T20:12:19.504Z"
   },
   {
    "duration": 208,
    "start_time": "2024-09-27T20:12:19.920Z"
   },
   {
    "duration": 425,
    "start_time": "2024-09-27T20:12:20.130Z"
   },
   {
    "duration": 432,
    "start_time": "2024-09-27T20:12:20.557Z"
   },
   {
    "duration": 427,
    "start_time": "2024-09-27T20:12:20.992Z"
   },
   {
    "duration": 551,
    "start_time": "2024-09-27T20:12:21.420Z"
   },
   {
    "duration": 182,
    "start_time": "2024-09-27T20:12:21.973Z"
   },
   {
    "duration": 16,
    "start_time": "2024-09-27T20:12:22.157Z"
   },
   {
    "duration": 197,
    "start_time": "2024-09-27T20:12:22.174Z"
   },
   {
    "duration": 338,
    "start_time": "2024-09-27T20:12:22.372Z"
   },
   {
    "duration": 12,
    "start_time": "2024-09-27T20:12:22.712Z"
   },
   {
    "duration": 17,
    "start_time": "2024-09-27T20:12:22.726Z"
   },
   {
    "duration": 344,
    "start_time": "2024-09-27T20:12:22.746Z"
   },
   {
    "duration": 11,
    "start_time": "2024-09-27T20:12:23.092Z"
   },
   {
    "duration": 104,
    "start_time": "2024-09-27T20:12:23.105Z"
   },
   {
    "duration": 324,
    "start_time": "2024-09-27T20:12:23.211Z"
   },
   {
    "duration": 23,
    "start_time": "2024-09-27T20:12:23.536Z"
   },
   {
    "duration": 165,
    "start_time": "2024-09-27T20:12:23.561Z"
   },
   {
    "duration": 4,
    "start_time": "2024-09-27T20:12:23.728Z"
   },
   {
    "duration": 338,
    "start_time": "2024-09-27T20:12:23.734Z"
   },
   {
    "duration": 352,
    "start_time": "2024-09-27T20:12:24.074Z"
   },
   {
    "duration": 12,
    "start_time": "2024-09-27T20:12:24.428Z"
   },
   {
    "duration": 175,
    "start_time": "2024-09-27T20:12:24.456Z"
   },
   {
    "duration": 834,
    "start_time": "2024-09-27T20:12:24.633Z"
   },
   {
    "duration": 0,
    "start_time": "2024-09-27T20:12:25.470Z"
   },
   {
    "duration": 0,
    "start_time": "2024-09-27T20:12:25.471Z"
   },
   {
    "duration": 0,
    "start_time": "2024-09-27T20:12:25.473Z"
   },
   {
    "duration": 0,
    "start_time": "2024-09-27T20:12:25.474Z"
   },
   {
    "duration": 0,
    "start_time": "2024-09-27T20:12:25.476Z"
   },
   {
    "duration": 0,
    "start_time": "2024-09-27T20:12:25.477Z"
   },
   {
    "duration": 0,
    "start_time": "2024-09-27T20:12:25.478Z"
   },
   {
    "duration": 0,
    "start_time": "2024-09-27T20:12:25.480Z"
   },
   {
    "duration": 0,
    "start_time": "2024-09-27T20:12:25.481Z"
   },
   {
    "duration": 0,
    "start_time": "2024-09-27T20:12:25.483Z"
   },
   {
    "duration": 0,
    "start_time": "2024-09-27T20:12:25.484Z"
   },
   {
    "duration": 0,
    "start_time": "2024-09-27T20:12:25.486Z"
   },
   {
    "duration": 1,
    "start_time": "2024-09-27T20:12:25.487Z"
   },
   {
    "duration": 0,
    "start_time": "2024-09-27T20:12:25.489Z"
   },
   {
    "duration": 0,
    "start_time": "2024-09-27T20:12:25.492Z"
   },
   {
    "duration": 0,
    "start_time": "2024-09-27T20:12:25.493Z"
   },
   {
    "duration": 0,
    "start_time": "2024-09-27T20:12:25.494Z"
   },
   {
    "duration": 0,
    "start_time": "2024-09-27T20:12:25.495Z"
   },
   {
    "duration": 0,
    "start_time": "2024-09-27T20:12:25.496Z"
   },
   {
    "duration": 0,
    "start_time": "2024-09-27T20:12:25.498Z"
   },
   {
    "duration": 0,
    "start_time": "2024-09-27T20:12:25.498Z"
   },
   {
    "duration": 0,
    "start_time": "2024-09-27T20:12:25.500Z"
   },
   {
    "duration": 0,
    "start_time": "2024-09-27T20:12:25.555Z"
   },
   {
    "duration": 0,
    "start_time": "2024-09-27T20:12:25.557Z"
   },
   {
    "duration": 0,
    "start_time": "2024-09-27T20:12:25.558Z"
   },
   {
    "duration": 0,
    "start_time": "2024-09-27T20:12:25.559Z"
   },
   {
    "duration": 0,
    "start_time": "2024-09-27T20:12:25.561Z"
   },
   {
    "duration": 0,
    "start_time": "2024-09-27T20:12:25.562Z"
   },
   {
    "duration": 0,
    "start_time": "2024-09-27T20:12:25.563Z"
   },
   {
    "duration": 0,
    "start_time": "2024-09-27T20:12:25.564Z"
   },
   {
    "duration": 0,
    "start_time": "2024-09-27T20:12:25.566Z"
   },
   {
    "duration": 0,
    "start_time": "2024-09-27T20:12:25.566Z"
   },
   {
    "duration": 0,
    "start_time": "2024-09-27T20:12:25.567Z"
   },
   {
    "duration": 0,
    "start_time": "2024-09-27T20:12:25.568Z"
   },
   {
    "duration": 0,
    "start_time": "2024-09-27T20:12:25.569Z"
   },
   {
    "duration": 0,
    "start_time": "2024-09-27T20:12:25.570Z"
   },
   {
    "duration": 7869,
    "start_time": "2024-09-27T20:12:37.649Z"
   },
   {
    "duration": 4,
    "start_time": "2024-09-27T20:12:45.520Z"
   },
   {
    "duration": 32,
    "start_time": "2024-09-27T20:12:45.527Z"
   },
   {
    "duration": 36,
    "start_time": "2024-09-27T20:12:45.561Z"
   },
   {
    "duration": 104,
    "start_time": "2024-09-27T20:12:45.599Z"
   },
   {
    "duration": 14,
    "start_time": "2024-09-27T20:12:45.705Z"
   },
   {
    "duration": 35,
    "start_time": "2024-09-27T20:12:45.720Z"
   },
   {
    "duration": 54,
    "start_time": "2024-09-27T20:12:45.756Z"
   },
   {
    "duration": 11,
    "start_time": "2024-09-27T20:12:45.813Z"
   },
   {
    "duration": 24,
    "start_time": "2024-09-27T20:12:45.826Z"
   },
   {
    "duration": 25,
    "start_time": "2024-09-27T20:12:45.852Z"
   },
   {
    "duration": 36,
    "start_time": "2024-09-27T20:12:45.878Z"
   },
   {
    "duration": 37,
    "start_time": "2024-09-27T20:12:45.916Z"
   },
   {
    "duration": 32,
    "start_time": "2024-09-27T20:12:45.955Z"
   },
   {
    "duration": 12,
    "start_time": "2024-09-27T20:12:45.989Z"
   },
   {
    "duration": 31,
    "start_time": "2024-09-27T20:12:46.003Z"
   },
   {
    "duration": 33,
    "start_time": "2024-09-27T20:12:46.035Z"
   },
   {
    "duration": 26,
    "start_time": "2024-09-27T20:12:46.070Z"
   },
   {
    "duration": 35,
    "start_time": "2024-09-27T20:12:46.098Z"
   },
   {
    "duration": 26,
    "start_time": "2024-09-27T20:12:46.135Z"
   },
   {
    "duration": 13,
    "start_time": "2024-09-27T20:12:46.163Z"
   },
   {
    "duration": 28,
    "start_time": "2024-09-27T20:12:46.178Z"
   },
   {
    "duration": 36,
    "start_time": "2024-09-27T20:12:46.207Z"
   },
   {
    "duration": 27,
    "start_time": "2024-09-27T20:12:46.245Z"
   },
   {
    "duration": 33,
    "start_time": "2024-09-27T20:12:46.274Z"
   },
   {
    "duration": 18,
    "start_time": "2024-09-27T20:12:46.309Z"
   },
   {
    "duration": 18,
    "start_time": "2024-09-27T20:12:46.332Z"
   },
   {
    "duration": 63,
    "start_time": "2024-09-27T20:12:46.352Z"
   },
   {
    "duration": 25,
    "start_time": "2024-09-27T20:12:46.417Z"
   },
   {
    "duration": 39,
    "start_time": "2024-09-27T20:12:46.444Z"
   },
   {
    "duration": 28,
    "start_time": "2024-09-27T20:12:46.485Z"
   },
   {
    "duration": 214,
    "start_time": "2024-09-27T20:12:46.515Z"
   },
   {
    "duration": 156,
    "start_time": "2024-09-27T20:12:46.731Z"
   },
   {
    "duration": 5,
    "start_time": "2024-09-27T20:12:46.889Z"
   },
   {
    "duration": 185,
    "start_time": "2024-09-27T20:12:46.896Z"
   },
   {
    "duration": 437,
    "start_time": "2024-09-27T20:12:47.083Z"
   },
   {
    "duration": 38,
    "start_time": "2024-09-27T20:12:47.522Z"
   },
   {
    "duration": 496,
    "start_time": "2024-09-27T20:12:47.562Z"
   },
   {
    "duration": 430,
    "start_time": "2024-09-27T20:12:48.060Z"
   },
   {
    "duration": 552,
    "start_time": "2024-09-27T20:12:48.492Z"
   },
   {
    "duration": 230,
    "start_time": "2024-09-27T20:12:49.046Z"
   },
   {
    "duration": 443,
    "start_time": "2024-09-27T20:12:49.278Z"
   },
   {
    "duration": 425,
    "start_time": "2024-09-27T20:12:49.723Z"
   },
   {
    "duration": 417,
    "start_time": "2024-09-27T20:12:50.150Z"
   },
   {
    "duration": 443,
    "start_time": "2024-09-27T20:12:50.569Z"
   },
   {
    "duration": 202,
    "start_time": "2024-09-27T20:12:51.014Z"
   },
   {
    "duration": 14,
    "start_time": "2024-09-27T20:12:51.218Z"
   },
   {
    "duration": 314,
    "start_time": "2024-09-27T20:12:51.234Z"
   },
   {
    "duration": 308,
    "start_time": "2024-09-27T20:12:51.549Z"
   },
   {
    "duration": 10,
    "start_time": "2024-09-27T20:12:51.859Z"
   },
   {
    "duration": 21,
    "start_time": "2024-09-27T20:12:51.871Z"
   },
   {
    "duration": 345,
    "start_time": "2024-09-27T20:12:51.893Z"
   },
   {
    "duration": 20,
    "start_time": "2024-09-27T20:12:52.240Z"
   },
   {
    "duration": 22,
    "start_time": "2024-09-27T20:12:52.261Z"
   },
   {
    "duration": 361,
    "start_time": "2024-09-27T20:12:52.285Z"
   },
   {
    "duration": 13,
    "start_time": "2024-09-27T20:12:52.655Z"
   },
   {
    "duration": 185,
    "start_time": "2024-09-27T20:12:52.670Z"
   },
   {
    "duration": 3,
    "start_time": "2024-09-27T20:12:52.857Z"
   },
   {
    "duration": 347,
    "start_time": "2024-09-27T20:12:52.862Z"
   },
   {
    "duration": 333,
    "start_time": "2024-09-27T20:12:53.211Z"
   },
   {
    "duration": 15,
    "start_time": "2024-09-27T20:12:53.546Z"
   },
   {
    "duration": 45,
    "start_time": "2024-09-27T20:12:53.562Z"
   },
   {
    "duration": 3442,
    "start_time": "2024-09-27T20:12:53.609Z"
   },
   {
    "duration": 5,
    "start_time": "2024-09-27T20:12:57.055Z"
   },
   {
    "duration": 7099,
    "start_time": "2024-09-27T20:12:57.061Z"
   },
   {
    "duration": 5,
    "start_time": "2024-09-27T20:13:04.162Z"
   },
   {
    "duration": 29,
    "start_time": "2024-09-27T20:13:04.169Z"
   },
   {
    "duration": 20,
    "start_time": "2024-09-27T20:13:04.199Z"
   },
   {
    "duration": 15,
    "start_time": "2024-09-27T20:13:04.221Z"
   },
   {
    "duration": 32,
    "start_time": "2024-09-27T20:13:04.238Z"
   },
   {
    "duration": 25,
    "start_time": "2024-09-27T20:13:04.271Z"
   },
   {
    "duration": 25,
    "start_time": "2024-09-27T20:13:04.297Z"
   },
   {
    "duration": 7,
    "start_time": "2024-09-27T20:13:04.323Z"
   },
   {
    "duration": 15,
    "start_time": "2024-09-27T20:13:04.332Z"
   },
   {
    "duration": 9,
    "start_time": "2024-09-27T20:13:04.349Z"
   },
   {
    "duration": 3,
    "start_time": "2024-09-27T20:13:04.360Z"
   },
   {
    "duration": 20,
    "start_time": "2024-09-27T20:13:04.364Z"
   },
   {
    "duration": 15,
    "start_time": "2024-09-27T20:13:04.386Z"
   },
   {
    "duration": 2187,
    "start_time": "2024-09-27T20:13:04.403Z"
   },
   {
    "duration": 33,
    "start_time": "2024-09-27T20:13:06.591Z"
   },
   {
    "duration": 40,
    "start_time": "2024-09-27T20:13:06.631Z"
   },
   {
    "duration": 27,
    "start_time": "2024-09-27T20:13:06.673Z"
   },
   {
    "duration": 416,
    "start_time": "2024-09-27T20:13:06.702Z"
   },
   {
    "duration": 0,
    "start_time": "2024-09-27T20:13:07.121Z"
   },
   {
    "duration": 0,
    "start_time": "2024-09-27T20:13:07.122Z"
   },
   {
    "duration": 0,
    "start_time": "2024-09-27T20:13:07.123Z"
   },
   {
    "duration": 0,
    "start_time": "2024-09-27T20:13:07.125Z"
   },
   {
    "duration": 0,
    "start_time": "2024-09-27T20:13:07.126Z"
   },
   {
    "duration": 0,
    "start_time": "2024-09-27T20:13:07.127Z"
   },
   {
    "duration": 0,
    "start_time": "2024-09-27T20:13:07.128Z"
   },
   {
    "duration": 0,
    "start_time": "2024-09-27T20:13:07.130Z"
   },
   {
    "duration": 0,
    "start_time": "2024-09-27T20:13:07.131Z"
   },
   {
    "duration": 0,
    "start_time": "2024-09-27T20:13:07.132Z"
   },
   {
    "duration": 0,
    "start_time": "2024-09-27T20:13:07.134Z"
   },
   {
    "duration": 0,
    "start_time": "2024-09-27T20:13:07.156Z"
   },
   {
    "duration": 0,
    "start_time": "2024-09-27T20:13:07.158Z"
   },
   {
    "duration": 0,
    "start_time": "2024-09-27T20:13:07.159Z"
   },
   {
    "duration": 0,
    "start_time": "2024-09-27T20:13:07.160Z"
   },
   {
    "duration": 0,
    "start_time": "2024-09-27T20:13:07.162Z"
   },
   {
    "duration": 7888,
    "start_time": "2024-09-27T20:13:39.805Z"
   },
   {
    "duration": 3,
    "start_time": "2024-09-27T20:13:47.696Z"
   },
   {
    "duration": 13,
    "start_time": "2024-09-27T20:13:47.701Z"
   },
   {
    "duration": 17,
    "start_time": "2024-09-27T20:13:47.716Z"
   },
   {
    "duration": 99,
    "start_time": "2024-09-27T20:13:47.735Z"
   },
   {
    "duration": 14,
    "start_time": "2024-09-27T20:13:47.835Z"
   },
   {
    "duration": 21,
    "start_time": "2024-09-27T20:13:47.851Z"
   },
   {
    "duration": 39,
    "start_time": "2024-09-27T20:13:47.874Z"
   },
   {
    "duration": 11,
    "start_time": "2024-09-27T20:13:47.915Z"
   },
   {
    "duration": 8,
    "start_time": "2024-09-27T20:13:47.929Z"
   },
   {
    "duration": 28,
    "start_time": "2024-09-27T20:13:47.938Z"
   },
   {
    "duration": 11,
    "start_time": "2024-09-27T20:13:47.967Z"
   },
   {
    "duration": 11,
    "start_time": "2024-09-27T20:13:47.980Z"
   },
   {
    "duration": 19,
    "start_time": "2024-09-27T20:13:47.993Z"
   },
   {
    "duration": 12,
    "start_time": "2024-09-27T20:13:48.014Z"
   },
   {
    "duration": 32,
    "start_time": "2024-09-27T20:13:48.027Z"
   },
   {
    "duration": 107,
    "start_time": "2024-09-27T20:13:48.061Z"
   },
   {
    "duration": 3,
    "start_time": "2024-09-27T20:13:48.170Z"
   },
   {
    "duration": 11,
    "start_time": "2024-09-27T20:13:48.175Z"
   },
   {
    "duration": 7,
    "start_time": "2024-09-27T20:13:48.188Z"
   },
   {
    "duration": 3,
    "start_time": "2024-09-27T20:13:48.197Z"
   },
   {
    "duration": 13,
    "start_time": "2024-09-27T20:13:48.201Z"
   },
   {
    "duration": 48,
    "start_time": "2024-09-27T20:13:48.216Z"
   },
   {
    "duration": 12,
    "start_time": "2024-09-27T20:13:48.266Z"
   },
   {
    "duration": 12,
    "start_time": "2024-09-27T20:13:48.280Z"
   },
   {
    "duration": 16,
    "start_time": "2024-09-27T20:13:48.294Z"
   },
   {
    "duration": 4,
    "start_time": "2024-09-27T20:13:48.311Z"
   },
   {
    "duration": 41,
    "start_time": "2024-09-27T20:13:48.320Z"
   },
   {
    "duration": 8,
    "start_time": "2024-09-27T20:13:48.363Z"
   },
   {
    "duration": 10,
    "start_time": "2024-09-27T20:13:48.372Z"
   },
   {
    "duration": 9,
    "start_time": "2024-09-27T20:13:48.383Z"
   },
   {
    "duration": 213,
    "start_time": "2024-09-27T20:13:48.394Z"
   },
   {
    "duration": 159,
    "start_time": "2024-09-27T20:13:48.609Z"
   },
   {
    "duration": 4,
    "start_time": "2024-09-27T20:13:48.770Z"
   },
   {
    "duration": 165,
    "start_time": "2024-09-27T20:13:48.776Z"
   },
   {
    "duration": 432,
    "start_time": "2024-09-27T20:13:48.943Z"
   },
   {
    "duration": 27,
    "start_time": "2024-09-27T20:13:49.377Z"
   },
   {
    "duration": 482,
    "start_time": "2024-09-27T20:13:49.405Z"
   },
   {
    "duration": 410,
    "start_time": "2024-09-27T20:13:49.889Z"
   },
   {
    "duration": 548,
    "start_time": "2024-09-27T20:13:50.301Z"
   },
   {
    "duration": 208,
    "start_time": "2024-09-27T20:13:50.851Z"
   },
   {
    "duration": 442,
    "start_time": "2024-09-27T20:13:51.060Z"
   },
   {
    "duration": 443,
    "start_time": "2024-09-27T20:13:51.504Z"
   },
   {
    "duration": 421,
    "start_time": "2024-09-27T20:13:51.948Z"
   },
   {
    "duration": 448,
    "start_time": "2024-09-27T20:13:52.371Z"
   },
   {
    "duration": 169,
    "start_time": "2024-09-27T20:13:52.821Z"
   },
   {
    "duration": 14,
    "start_time": "2024-09-27T20:13:52.992Z"
   },
   {
    "duration": 222,
    "start_time": "2024-09-27T20:13:53.007Z"
   },
   {
    "duration": 466,
    "start_time": "2024-09-27T20:13:53.231Z"
   },
   {
    "duration": 10,
    "start_time": "2024-09-27T20:13:53.699Z"
   },
   {
    "duration": 5,
    "start_time": "2024-09-27T20:13:53.710Z"
   },
   {
    "duration": 355,
    "start_time": "2024-09-27T20:13:53.717Z"
   },
   {
    "duration": 11,
    "start_time": "2024-09-27T20:13:54.074Z"
   },
   {
    "duration": 77,
    "start_time": "2024-09-27T20:13:54.086Z"
   },
   {
    "duration": 329,
    "start_time": "2024-09-27T20:13:54.166Z"
   },
   {
    "duration": 13,
    "start_time": "2024-09-27T20:13:54.496Z"
   },
   {
    "duration": 194,
    "start_time": "2024-09-27T20:13:54.511Z"
   },
   {
    "duration": 4,
    "start_time": "2024-09-27T20:13:54.707Z"
   },
   {
    "duration": 334,
    "start_time": "2024-09-27T20:13:54.714Z"
   },
   {
    "duration": 339,
    "start_time": "2024-09-27T20:13:55.051Z"
   },
   {
    "duration": 11,
    "start_time": "2024-09-27T20:13:55.392Z"
   },
   {
    "duration": 62,
    "start_time": "2024-09-27T20:13:55.404Z"
   },
   {
    "duration": 3409,
    "start_time": "2024-09-27T20:13:55.468Z"
   },
   {
    "duration": 5,
    "start_time": "2024-09-27T20:13:58.878Z"
   },
   {
    "duration": 7012,
    "start_time": "2024-09-27T20:13:58.885Z"
   },
   {
    "duration": 5,
    "start_time": "2024-09-27T20:14:05.899Z"
   },
   {
    "duration": 22,
    "start_time": "2024-09-27T20:14:05.906Z"
   },
   {
    "duration": 19,
    "start_time": "2024-09-27T20:14:05.930Z"
   },
   {
    "duration": 15,
    "start_time": "2024-09-27T20:14:05.951Z"
   },
   {
    "duration": 19,
    "start_time": "2024-09-27T20:14:05.968Z"
   },
   {
    "duration": 33,
    "start_time": "2024-09-27T20:14:05.989Z"
   },
   {
    "duration": 4,
    "start_time": "2024-09-27T20:14:06.023Z"
   },
   {
    "duration": 24,
    "start_time": "2024-09-27T20:14:06.028Z"
   },
   {
    "duration": 27,
    "start_time": "2024-09-27T20:14:06.054Z"
   },
   {
    "duration": 107,
    "start_time": "2024-09-27T20:14:06.083Z"
   },
   {
    "duration": 16,
    "start_time": "2024-09-27T20:14:06.192Z"
   },
   {
    "duration": 30,
    "start_time": "2024-09-27T20:14:06.210Z"
   },
   {
    "duration": 10,
    "start_time": "2024-09-27T20:14:06.242Z"
   },
   {
    "duration": 2168,
    "start_time": "2024-09-27T20:14:06.254Z"
   },
   {
    "duration": 51,
    "start_time": "2024-09-27T20:14:08.423Z"
   },
   {
    "duration": 25,
    "start_time": "2024-09-27T20:14:08.476Z"
   },
   {
    "duration": 5,
    "start_time": "2024-09-27T20:14:08.508Z"
   },
   {
    "duration": 273,
    "start_time": "2024-09-27T20:14:08.515Z"
   },
   {
    "duration": 0,
    "start_time": "2024-09-27T20:14:08.790Z"
   },
   {
    "duration": 0,
    "start_time": "2024-09-27T20:14:08.791Z"
   },
   {
    "duration": 0,
    "start_time": "2024-09-27T20:14:08.792Z"
   },
   {
    "duration": 0,
    "start_time": "2024-09-27T20:14:08.793Z"
   },
   {
    "duration": 0,
    "start_time": "2024-09-27T20:14:08.794Z"
   },
   {
    "duration": 0,
    "start_time": "2024-09-27T20:14:08.795Z"
   },
   {
    "duration": 0,
    "start_time": "2024-09-27T20:14:08.796Z"
   },
   {
    "duration": 0,
    "start_time": "2024-09-27T20:14:08.797Z"
   },
   {
    "duration": 0,
    "start_time": "2024-09-27T20:14:08.798Z"
   },
   {
    "duration": 0,
    "start_time": "2024-09-27T20:14:08.799Z"
   },
   {
    "duration": 0,
    "start_time": "2024-09-27T20:14:08.800Z"
   },
   {
    "duration": 0,
    "start_time": "2024-09-27T20:14:08.802Z"
   },
   {
    "duration": 0,
    "start_time": "2024-09-27T20:14:08.803Z"
   },
   {
    "duration": 0,
    "start_time": "2024-09-27T20:14:08.804Z"
   },
   {
    "duration": 0,
    "start_time": "2024-09-27T20:14:08.805Z"
   },
   {
    "duration": 0,
    "start_time": "2024-09-27T20:14:08.806Z"
   },
   {
    "duration": 7860,
    "start_time": "2024-09-27T20:14:20.670Z"
   },
   {
    "duration": 1260,
    "start_time": "2024-09-27T20:14:28.533Z"
   },
   {
    "duration": 583,
    "start_time": "2024-09-27T20:14:29.795Z"
   },
   {
    "duration": 3,
    "start_time": "2024-09-27T20:14:30.381Z"
   },
   {
    "duration": 114,
    "start_time": "2024-09-27T20:14:30.385Z"
   },
   {
    "duration": 13,
    "start_time": "2024-09-27T20:14:30.501Z"
   },
   {
    "duration": 35,
    "start_time": "2024-09-27T20:14:30.515Z"
   },
   {
    "duration": 42,
    "start_time": "2024-09-27T20:14:30.552Z"
   },
   {
    "duration": 32,
    "start_time": "2024-09-27T20:14:30.596Z"
   },
   {
    "duration": 75,
    "start_time": "2024-09-27T20:14:30.630Z"
   },
   {
    "duration": 25,
    "start_time": "2024-09-27T20:14:30.707Z"
   },
   {
    "duration": 11,
    "start_time": "2024-09-27T20:14:30.734Z"
   },
   {
    "duration": 20,
    "start_time": "2024-09-27T20:14:30.747Z"
   },
   {
    "duration": 30,
    "start_time": "2024-09-27T20:14:30.769Z"
   },
   {
    "duration": 24,
    "start_time": "2024-09-27T20:14:30.800Z"
   },
   {
    "duration": 85,
    "start_time": "2024-09-27T20:14:30.826Z"
   },
   {
    "duration": 17,
    "start_time": "2024-09-27T20:14:30.912Z"
   },
   {
    "duration": 3,
    "start_time": "2024-09-27T20:14:30.931Z"
   },
   {
    "duration": 15,
    "start_time": "2024-09-27T20:14:30.936Z"
   },
   {
    "duration": 11,
    "start_time": "2024-09-27T20:14:30.952Z"
   },
   {
    "duration": 9,
    "start_time": "2024-09-27T20:14:30.965Z"
   },
   {
    "duration": 19,
    "start_time": "2024-09-27T20:14:30.976Z"
   },
   {
    "duration": 30,
    "start_time": "2024-09-27T20:14:30.998Z"
   },
   {
    "duration": 11,
    "start_time": "2024-09-27T20:14:31.030Z"
   },
   {
    "duration": 17,
    "start_time": "2024-09-27T20:14:31.043Z"
   },
   {
    "duration": 10,
    "start_time": "2024-09-27T20:14:31.061Z"
   },
   {
    "duration": 11,
    "start_time": "2024-09-27T20:14:31.073Z"
   },
   {
    "duration": 102,
    "start_time": "2024-09-27T20:14:31.089Z"
   },
   {
    "duration": 27,
    "start_time": "2024-09-27T20:14:31.193Z"
   },
   {
    "duration": 17,
    "start_time": "2024-09-27T20:14:31.222Z"
   },
   {
    "duration": 12,
    "start_time": "2024-09-27T20:14:31.242Z"
   },
   {
    "duration": 161,
    "start_time": "2024-09-27T20:14:31.255Z"
   },
   {
    "duration": 132,
    "start_time": "2024-09-27T20:14:31.419Z"
   },
   {
    "duration": 4,
    "start_time": "2024-09-27T20:14:31.553Z"
   },
   {
    "duration": 127,
    "start_time": "2024-09-27T20:14:31.559Z"
   },
   {
    "duration": 410,
    "start_time": "2024-09-27T20:14:31.688Z"
   },
   {
    "duration": 25,
    "start_time": "2024-09-27T20:14:32.100Z"
   },
   {
    "duration": 476,
    "start_time": "2024-09-27T20:14:32.127Z"
   },
   {
    "duration": 533,
    "start_time": "2024-09-27T20:14:32.605Z"
   },
   {
    "duration": 444,
    "start_time": "2024-09-27T20:14:33.140Z"
   },
   {
    "duration": 379,
    "start_time": "2024-09-27T20:14:33.586Z"
   },
   {
    "duration": 455,
    "start_time": "2024-09-27T20:14:33.967Z"
   },
   {
    "duration": 425,
    "start_time": "2024-09-27T20:14:34.424Z"
   },
   {
    "duration": 428,
    "start_time": "2024-09-27T20:14:34.851Z"
   },
   {
    "duration": 593,
    "start_time": "2024-09-27T20:14:35.281Z"
   },
   {
    "duration": 186,
    "start_time": "2024-09-27T20:14:35.876Z"
   },
   {
    "duration": 14,
    "start_time": "2024-09-27T20:14:36.064Z"
   },
   {
    "duration": 278,
    "start_time": "2024-09-27T20:14:36.080Z"
   },
   {
    "duration": 311,
    "start_time": "2024-09-27T20:14:36.360Z"
   },
   {
    "duration": 9,
    "start_time": "2024-09-27T20:14:36.673Z"
   },
   {
    "duration": 30,
    "start_time": "2024-09-27T20:14:36.684Z"
   },
   {
    "duration": 341,
    "start_time": "2024-09-27T20:14:36.717Z"
   },
   {
    "duration": 11,
    "start_time": "2024-09-27T20:14:37.060Z"
   },
   {
    "duration": 6,
    "start_time": "2024-09-27T20:14:37.073Z"
   },
   {
    "duration": 402,
    "start_time": "2024-09-27T20:14:37.081Z"
   },
   {
    "duration": 14,
    "start_time": "2024-09-27T20:14:37.486Z"
   },
   {
    "duration": 200,
    "start_time": "2024-09-27T20:14:37.501Z"
   },
   {
    "duration": 4,
    "start_time": "2024-09-27T20:14:37.703Z"
   },
   {
    "duration": 319,
    "start_time": "2024-09-27T20:14:37.708Z"
   },
   {
    "duration": 434,
    "start_time": "2024-09-27T20:14:38.029Z"
   },
   {
    "duration": 12,
    "start_time": "2024-09-27T20:14:38.465Z"
   },
   {
    "duration": 44,
    "start_time": "2024-09-27T20:14:38.480Z"
   },
   {
    "duration": 3295,
    "start_time": "2024-09-27T20:14:38.526Z"
   },
   {
    "duration": 5,
    "start_time": "2024-09-27T20:14:41.822Z"
   },
   {
    "duration": 7040,
    "start_time": "2024-09-27T20:14:41.828Z"
   },
   {
    "duration": 5,
    "start_time": "2024-09-27T20:14:48.870Z"
   },
   {
    "duration": 20,
    "start_time": "2024-09-27T20:14:48.876Z"
   },
   {
    "duration": 9,
    "start_time": "2024-09-27T20:14:48.898Z"
   },
   {
    "duration": 24,
    "start_time": "2024-09-27T20:14:48.908Z"
   },
   {
    "duration": 8,
    "start_time": "2024-09-27T20:14:48.933Z"
   },
   {
    "duration": 15,
    "start_time": "2024-09-27T20:14:48.956Z"
   },
   {
    "duration": 3,
    "start_time": "2024-09-27T20:14:48.973Z"
   },
   {
    "duration": 8,
    "start_time": "2024-09-27T20:14:48.978Z"
   },
   {
    "duration": 4,
    "start_time": "2024-09-27T20:14:48.988Z"
   },
   {
    "duration": 6,
    "start_time": "2024-09-27T20:14:48.994Z"
   },
   {
    "duration": 4,
    "start_time": "2024-09-27T20:14:49.002Z"
   },
   {
    "duration": 6,
    "start_time": "2024-09-27T20:14:49.007Z"
   },
   {
    "duration": 3,
    "start_time": "2024-09-27T20:14:49.015Z"
   },
   {
    "duration": 2194,
    "start_time": "2024-09-27T20:14:49.020Z"
   },
   {
    "duration": 39,
    "start_time": "2024-09-27T20:14:51.216Z"
   },
   {
    "duration": 26,
    "start_time": "2024-09-27T20:14:51.257Z"
   },
   {
    "duration": 7,
    "start_time": "2024-09-27T20:14:51.289Z"
   },
   {
    "duration": 428,
    "start_time": "2024-09-27T20:14:51.297Z"
   },
   {
    "duration": 0,
    "start_time": "2024-09-27T20:14:51.727Z"
   },
   {
    "duration": 0,
    "start_time": "2024-09-27T20:14:51.728Z"
   },
   {
    "duration": 0,
    "start_time": "2024-09-27T20:14:51.729Z"
   },
   {
    "duration": 0,
    "start_time": "2024-09-27T20:14:51.731Z"
   },
   {
    "duration": 0,
    "start_time": "2024-09-27T20:14:51.732Z"
   },
   {
    "duration": 0,
    "start_time": "2024-09-27T20:14:51.733Z"
   },
   {
    "duration": 0,
    "start_time": "2024-09-27T20:14:51.734Z"
   },
   {
    "duration": 0,
    "start_time": "2024-09-27T20:14:51.735Z"
   },
   {
    "duration": 0,
    "start_time": "2024-09-27T20:14:51.736Z"
   },
   {
    "duration": 0,
    "start_time": "2024-09-27T20:14:51.755Z"
   },
   {
    "duration": 0,
    "start_time": "2024-09-27T20:14:51.757Z"
   },
   {
    "duration": 0,
    "start_time": "2024-09-27T20:14:51.758Z"
   },
   {
    "duration": 0,
    "start_time": "2024-09-27T20:14:51.760Z"
   },
   {
    "duration": 0,
    "start_time": "2024-09-27T20:14:51.761Z"
   },
   {
    "duration": 0,
    "start_time": "2024-09-27T20:14:51.762Z"
   },
   {
    "duration": 0,
    "start_time": "2024-09-27T20:14:51.763Z"
   },
   {
    "duration": 253,
    "start_time": "2024-09-27T20:17:02.364Z"
   },
   {
    "duration": 2980,
    "start_time": "2024-09-27T20:18:08.232Z"
   },
   {
    "duration": 284,
    "start_time": "2024-09-27T20:18:12.899Z"
   },
   {
    "duration": 268,
    "start_time": "2024-09-27T20:19:30.701Z"
   },
   {
    "duration": 250,
    "start_time": "2024-09-27T20:20:18.507Z"
   },
   {
    "duration": 79,
    "start_time": "2024-09-27T20:20:42.627Z"
   },
   {
    "duration": 64,
    "start_time": "2024-09-27T20:20:58.924Z"
   },
   {
    "duration": 64,
    "start_time": "2024-09-27T20:21:24.766Z"
   },
   {
    "duration": 271,
    "start_time": "2024-09-27T20:22:22.905Z"
   },
   {
    "duration": 2923,
    "start_time": "2024-09-27T20:23:07.802Z"
   },
   {
    "duration": 285,
    "start_time": "2024-09-27T20:23:11.648Z"
   },
   {
    "duration": 261,
    "start_time": "2024-09-27T20:23:36.429Z"
   },
   {
    "duration": 259,
    "start_time": "2024-09-27T20:23:43.869Z"
   },
   {
    "duration": 49,
    "start_time": "2024-09-27T20:25:33.757Z"
   },
   {
    "duration": 245,
    "start_time": "2024-09-27T20:25:39.637Z"
   },
   {
    "duration": 458,
    "start_time": "2024-09-27T20:25:46.917Z"
   },
   {
    "duration": 48,
    "start_time": "2024-09-27T20:27:07.694Z"
   },
   {
    "duration": 48,
    "start_time": "2024-09-27T20:28:25.841Z"
   },
   {
    "duration": 254,
    "start_time": "2024-09-27T20:28:30.613Z"
   },
   {
    "duration": 252,
    "start_time": "2024-09-27T20:28:43.278Z"
   },
   {
    "duration": 1299,
    "start_time": "2024-09-27T20:28:52.821Z"
   },
   {
    "duration": 48,
    "start_time": "2024-09-27T20:30:33.060Z"
   },
   {
    "duration": 47,
    "start_time": "2024-09-27T20:30:37.103Z"
   },
   {
    "duration": 284,
    "start_time": "2024-09-27T20:31:42.713Z"
   },
   {
    "duration": 52,
    "start_time": "2024-09-27T20:46:54.707Z"
   },
   {
    "duration": 23,
    "start_time": "2024-09-27T20:48:06.637Z"
   },
   {
    "duration": 100,
    "start_time": "2024-09-27T20:48:06.663Z"
   },
   {
    "duration": 103,
    "start_time": "2024-09-27T20:48:06.765Z"
   },
   {
    "duration": 17,
    "start_time": "2024-09-27T20:48:06.870Z"
   },
   {
    "duration": 247,
    "start_time": "2024-09-27T20:48:06.888Z"
   },
   {
    "duration": 4,
    "start_time": "2024-09-27T20:48:07.137Z"
   },
   {
    "duration": 1499,
    "start_time": "2024-09-27T20:48:07.143Z"
   },
   {
    "duration": 25,
    "start_time": "2024-09-27T20:48:08.643Z"
   },
   {
    "duration": 22,
    "start_time": "2024-09-27T20:48:08.670Z"
   },
   {
    "duration": 12,
    "start_time": "2024-09-27T20:48:08.695Z"
   },
   {
    "duration": 0,
    "start_time": "2024-09-27T20:48:08.709Z"
   },
   {
    "duration": 0,
    "start_time": "2024-09-27T20:48:08.710Z"
   },
   {
    "duration": 0,
    "start_time": "2024-09-27T20:48:08.712Z"
   },
   {
    "duration": 0,
    "start_time": "2024-09-27T20:48:08.713Z"
   },
   {
    "duration": 0,
    "start_time": "2024-09-27T20:48:08.714Z"
   },
   {
    "duration": 0,
    "start_time": "2024-09-27T20:48:08.715Z"
   },
   {
    "duration": 16,
    "start_time": "2024-09-27T20:50:12.441Z"
   },
   {
    "duration": 11,
    "start_time": "2024-09-27T20:50:13.759Z"
   },
   {
    "duration": 354,
    "start_time": "2024-09-27T20:51:00.003Z"
   },
   {
    "duration": 133,
    "start_time": "2024-09-27T20:51:17.914Z"
   },
   {
    "duration": 319,
    "start_time": "2024-09-27T20:54:34.262Z"
   },
   {
    "duration": 322,
    "start_time": "2024-09-27T20:54:34.583Z"
   },
   {
    "duration": 342,
    "start_time": "2024-09-27T20:54:34.906Z"
   },
   {
    "duration": 344,
    "start_time": "2024-09-27T20:54:35.250Z"
   },
   {
    "duration": 344,
    "start_time": "2024-09-27T20:54:35.597Z"
   },
   {
    "duration": 1222,
    "start_time": "2024-09-27T20:57:28.568Z"
   },
   {
    "duration": 9,
    "start_time": "2024-09-27T20:57:36.203Z"
   },
   {
    "duration": 15456,
    "start_time": "2024-09-28T09:40:07.938Z"
   },
   {
    "duration": 1392,
    "start_time": "2024-09-28T09:40:23.396Z"
   },
   {
    "duration": 936,
    "start_time": "2024-09-28T09:40:24.790Z"
   },
   {
    "duration": 3,
    "start_time": "2024-09-28T09:40:25.728Z"
   },
   {
    "duration": 332,
    "start_time": "2024-09-28T09:40:25.732Z"
   },
   {
    "duration": 13,
    "start_time": "2024-09-28T09:40:26.066Z"
   },
   {
    "duration": 25,
    "start_time": "2024-09-28T09:40:26.080Z"
   },
   {
    "duration": 31,
    "start_time": "2024-09-28T09:40:26.108Z"
   },
   {
    "duration": 10,
    "start_time": "2024-09-28T09:40:26.140Z"
   },
   {
    "duration": 8,
    "start_time": "2024-09-28T09:40:26.164Z"
   },
   {
    "duration": 19,
    "start_time": "2024-09-28T09:40:26.174Z"
   },
   {
    "duration": 10,
    "start_time": "2024-09-28T09:40:26.195Z"
   },
   {
    "duration": 7,
    "start_time": "2024-09-28T09:40:26.206Z"
   },
   {
    "duration": 13,
    "start_time": "2024-09-28T09:40:26.215Z"
   },
   {
    "duration": 42,
    "start_time": "2024-09-28T09:40:26.230Z"
   },
   {
    "duration": 10,
    "start_time": "2024-09-28T09:40:26.274Z"
   },
   {
    "duration": 14,
    "start_time": "2024-09-28T09:40:26.286Z"
   },
   {
    "duration": 3,
    "start_time": "2024-09-28T09:40:26.301Z"
   },
   {
    "duration": 22,
    "start_time": "2024-09-28T09:40:26.306Z"
   },
   {
    "duration": 6,
    "start_time": "2024-09-28T09:40:26.329Z"
   },
   {
    "duration": 20,
    "start_time": "2024-09-28T09:40:26.336Z"
   },
   {
    "duration": 17,
    "start_time": "2024-09-28T09:40:26.358Z"
   },
   {
    "duration": 13,
    "start_time": "2024-09-28T09:40:26.376Z"
   },
   {
    "duration": 11,
    "start_time": "2024-09-28T09:40:26.390Z"
   },
   {
    "duration": 6,
    "start_time": "2024-09-28T09:40:26.403Z"
   },
   {
    "duration": 7,
    "start_time": "2024-09-28T09:40:26.411Z"
   },
   {
    "duration": 8,
    "start_time": "2024-09-28T09:40:26.420Z"
   },
   {
    "duration": 45,
    "start_time": "2024-09-28T09:40:26.431Z"
   },
   {
    "duration": 30,
    "start_time": "2024-09-28T09:40:26.478Z"
   },
   {
    "duration": 8,
    "start_time": "2024-09-28T09:40:26.510Z"
   },
   {
    "duration": 8,
    "start_time": "2024-09-28T09:40:26.520Z"
   },
   {
    "duration": 149,
    "start_time": "2024-09-28T09:40:26.529Z"
   },
   {
    "duration": 121,
    "start_time": "2024-09-28T09:40:26.680Z"
   },
   {
    "duration": 4,
    "start_time": "2024-09-28T09:40:26.803Z"
   },
   {
    "duration": 136,
    "start_time": "2024-09-28T09:40:26.808Z"
   },
   {
    "duration": 412,
    "start_time": "2024-09-28T09:40:26.946Z"
   },
   {
    "duration": 23,
    "start_time": "2024-09-28T09:40:27.365Z"
   },
   {
    "duration": 498,
    "start_time": "2024-09-28T09:40:27.390Z"
   },
   {
    "duration": 501,
    "start_time": "2024-09-28T09:40:27.889Z"
   },
   {
    "duration": 420,
    "start_time": "2024-09-28T09:40:28.392Z"
   },
   {
    "duration": 212,
    "start_time": "2024-09-28T09:40:28.814Z"
   },
   {
    "duration": 424,
    "start_time": "2024-09-28T09:40:29.028Z"
   },
   {
    "duration": 439,
    "start_time": "2024-09-28T09:40:29.453Z"
   },
   {
    "duration": 403,
    "start_time": "2024-09-28T09:40:29.894Z"
   },
   {
    "duration": 562,
    "start_time": "2024-09-28T09:40:30.299Z"
   },
   {
    "duration": 181,
    "start_time": "2024-09-28T09:40:30.864Z"
   },
   {
    "duration": 19,
    "start_time": "2024-09-28T09:40:31.047Z"
   },
   {
    "duration": 181,
    "start_time": "2024-09-28T09:40:31.067Z"
   },
   {
    "duration": 325,
    "start_time": "2024-09-28T09:40:31.249Z"
   },
   {
    "duration": 9,
    "start_time": "2024-09-28T09:40:31.576Z"
   },
   {
    "duration": 93,
    "start_time": "2024-09-28T09:40:31.586Z"
   },
   {
    "duration": 348,
    "start_time": "2024-09-28T09:40:31.680Z"
   },
   {
    "duration": 11,
    "start_time": "2024-09-28T09:40:32.029Z"
   },
   {
    "duration": 21,
    "start_time": "2024-09-28T09:40:32.041Z"
   },
   {
    "duration": 315,
    "start_time": "2024-09-28T09:40:32.064Z"
   },
   {
    "duration": 15,
    "start_time": "2024-09-28T09:40:32.381Z"
   },
   {
    "duration": 175,
    "start_time": "2024-09-28T09:40:32.398Z"
   },
   {
    "duration": 4,
    "start_time": "2024-09-28T09:40:32.575Z"
   },
   {
    "duration": 367,
    "start_time": "2024-09-28T09:40:32.581Z"
   },
   {
    "duration": 440,
    "start_time": "2024-09-28T09:40:32.950Z"
   },
   {
    "duration": 10,
    "start_time": "2024-09-28T09:40:33.391Z"
   },
   {
    "duration": 41,
    "start_time": "2024-09-28T09:40:33.403Z"
   },
   {
    "duration": 23,
    "start_time": "2024-09-28T09:40:41.976Z"
   },
   {
    "duration": 7481,
    "start_time": "2024-09-28T09:50:40.312Z"
   },
   {
    "duration": 1141,
    "start_time": "2024-09-28T09:50:47.795Z"
   },
   {
    "duration": 884,
    "start_time": "2024-09-28T09:50:48.938Z"
   },
   {
    "duration": 2,
    "start_time": "2024-09-28T09:50:49.825Z"
   },
   {
    "duration": 101,
    "start_time": "2024-09-28T09:50:49.829Z"
   },
   {
    "duration": 13,
    "start_time": "2024-09-28T09:50:49.931Z"
   },
   {
    "duration": 16,
    "start_time": "2024-09-28T09:50:49.946Z"
   },
   {
    "duration": 32,
    "start_time": "2024-09-28T09:50:49.963Z"
   },
   {
    "duration": 11,
    "start_time": "2024-09-28T09:50:49.997Z"
   },
   {
    "duration": 11,
    "start_time": "2024-09-28T09:50:50.011Z"
   },
   {
    "duration": 14,
    "start_time": "2024-09-28T09:50:50.024Z"
   },
   {
    "duration": 11,
    "start_time": "2024-09-28T09:50:50.066Z"
   },
   {
    "duration": 10,
    "start_time": "2024-09-28T09:50:50.079Z"
   },
   {
    "duration": 17,
    "start_time": "2024-09-28T09:50:50.091Z"
   },
   {
    "duration": 10,
    "start_time": "2024-09-28T09:50:50.110Z"
   },
   {
    "duration": 9,
    "start_time": "2024-09-28T09:50:50.122Z"
   },
   {
    "duration": 41,
    "start_time": "2024-09-28T09:50:50.133Z"
   },
   {
    "duration": 3,
    "start_time": "2024-09-28T09:50:50.176Z"
   },
   {
    "duration": 7,
    "start_time": "2024-09-28T09:50:50.180Z"
   },
   {
    "duration": 7,
    "start_time": "2024-09-28T09:50:50.189Z"
   },
   {
    "duration": 5,
    "start_time": "2024-09-28T09:50:50.199Z"
   },
   {
    "duration": 13,
    "start_time": "2024-09-28T09:50:50.205Z"
   },
   {
    "duration": 45,
    "start_time": "2024-09-28T09:50:50.220Z"
   },
   {
    "duration": 11,
    "start_time": "2024-09-28T09:50:50.267Z"
   },
   {
    "duration": 6,
    "start_time": "2024-09-28T09:50:50.280Z"
   },
   {
    "duration": 10,
    "start_time": "2024-09-28T09:50:50.288Z"
   },
   {
    "duration": 3,
    "start_time": "2024-09-28T09:50:50.300Z"
   },
   {
    "duration": 17,
    "start_time": "2024-09-28T09:50:50.310Z"
   },
   {
    "duration": 47,
    "start_time": "2024-09-28T09:50:50.329Z"
   },
   {
    "duration": 10,
    "start_time": "2024-09-28T09:50:50.379Z"
   },
   {
    "duration": 14,
    "start_time": "2024-09-28T09:50:50.391Z"
   },
   {
    "duration": 169,
    "start_time": "2024-09-28T09:50:50.407Z"
   },
   {
    "duration": 125,
    "start_time": "2024-09-28T09:50:50.577Z"
   },
   {
    "duration": 4,
    "start_time": "2024-09-28T09:50:50.704Z"
   },
   {
    "duration": 158,
    "start_time": "2024-09-28T09:50:50.710Z"
   },
   {
    "duration": 405,
    "start_time": "2024-09-28T09:50:50.870Z"
   },
   {
    "duration": 23,
    "start_time": "2024-09-28T09:50:51.276Z"
   },
   {
    "duration": 441,
    "start_time": "2024-09-28T09:50:51.301Z"
   },
   {
    "duration": 501,
    "start_time": "2024-09-28T09:50:51.745Z"
   },
   {
    "duration": 396,
    "start_time": "2024-09-28T09:50:52.248Z"
   },
   {
    "duration": 213,
    "start_time": "2024-09-28T09:50:52.645Z"
   },
   {
    "duration": 409,
    "start_time": "2024-09-28T09:50:52.865Z"
   },
   {
    "duration": 376,
    "start_time": "2024-09-28T09:50:53.275Z"
   },
   {
    "duration": 408,
    "start_time": "2024-09-28T09:50:53.652Z"
   },
   {
    "duration": 522,
    "start_time": "2024-09-28T09:50:54.062Z"
   },
   {
    "duration": 184,
    "start_time": "2024-09-28T09:50:54.586Z"
   },
   {
    "duration": 12,
    "start_time": "2024-09-28T09:50:54.772Z"
   },
   {
    "duration": 176,
    "start_time": "2024-09-28T09:50:54.785Z"
   },
   {
    "duration": 293,
    "start_time": "2024-09-28T09:50:54.964Z"
   },
   {
    "duration": 15,
    "start_time": "2024-09-28T09:50:55.258Z"
   },
   {
    "duration": 19,
    "start_time": "2024-09-28T09:50:55.274Z"
   },
   {
    "duration": 318,
    "start_time": "2024-09-28T09:50:55.295Z"
   },
   {
    "duration": 11,
    "start_time": "2024-09-28T09:50:55.615Z"
   },
   {
    "duration": 62,
    "start_time": "2024-09-28T09:50:55.628Z"
   },
   {
    "duration": 327,
    "start_time": "2024-09-28T09:50:55.691Z"
   },
   {
    "duration": 14,
    "start_time": "2024-09-28T09:50:56.020Z"
   },
   {
    "duration": 166,
    "start_time": "2024-09-28T09:50:56.036Z"
   },
   {
    "duration": 4,
    "start_time": "2024-09-28T09:50:56.204Z"
   },
   {
    "duration": 311,
    "start_time": "2024-09-28T09:50:56.209Z"
   },
   {
    "duration": 405,
    "start_time": "2024-09-28T09:50:56.521Z"
   },
   {
    "duration": 9,
    "start_time": "2024-09-28T09:50:56.928Z"
   },
   {
    "duration": 56,
    "start_time": "2024-09-28T09:50:56.939Z"
   },
   {
    "duration": 3104,
    "start_time": "2024-09-28T09:50:56.996Z"
   },
   {
    "duration": 6,
    "start_time": "2024-09-28T09:51:00.102Z"
   },
   {
    "duration": 6790,
    "start_time": "2024-09-28T09:51:00.110Z"
   },
   {
    "duration": 4,
    "start_time": "2024-09-28T09:51:06.902Z"
   },
   {
    "duration": 14,
    "start_time": "2024-09-28T09:51:06.908Z"
   },
   {
    "duration": 5,
    "start_time": "2024-09-28T09:51:06.924Z"
   },
   {
    "duration": 16,
    "start_time": "2024-09-28T09:51:06.930Z"
   },
   {
    "duration": 29,
    "start_time": "2024-09-28T09:51:06.948Z"
   },
   {
    "duration": 22,
    "start_time": "2024-09-28T09:51:06.979Z"
   },
   {
    "duration": 5,
    "start_time": "2024-09-28T09:51:07.003Z"
   },
   {
    "duration": 11,
    "start_time": "2024-09-28T09:51:07.009Z"
   },
   {
    "duration": 4,
    "start_time": "2024-09-28T09:51:07.022Z"
   },
   {
    "duration": 4,
    "start_time": "2024-09-28T09:51:07.028Z"
   },
   {
    "duration": 6,
    "start_time": "2024-09-28T09:51:07.034Z"
   },
   {
    "duration": 42,
    "start_time": "2024-09-28T09:51:07.041Z"
   },
   {
    "duration": 5,
    "start_time": "2024-09-28T09:51:07.085Z"
   },
   {
    "duration": 2068,
    "start_time": "2024-09-28T09:51:07.092Z"
   },
   {
    "duration": 33,
    "start_time": "2024-09-28T09:51:09.162Z"
   },
   {
    "duration": 23,
    "start_time": "2024-09-28T09:51:09.197Z"
   },
   {
    "duration": 5,
    "start_time": "2024-09-28T09:51:09.226Z"
   },
   {
    "duration": 3192,
    "start_time": "2024-09-28T09:51:09.232Z"
   },
   {
    "duration": 383,
    "start_time": "2024-09-28T09:51:12.426Z"
   },
   {
    "duration": 0,
    "start_time": "2024-09-28T09:51:12.811Z"
   },
   {
    "duration": 0,
    "start_time": "2024-09-28T09:51:12.812Z"
   },
   {
    "duration": 0,
    "start_time": "2024-09-28T09:51:12.813Z"
   },
   {
    "duration": 0,
    "start_time": "2024-09-28T09:51:12.815Z"
   },
   {
    "duration": 0,
    "start_time": "2024-09-28T09:51:12.816Z"
   },
   {
    "duration": 0,
    "start_time": "2024-09-28T09:51:12.817Z"
   },
   {
    "duration": 0,
    "start_time": "2024-09-28T09:51:12.818Z"
   },
   {
    "duration": 0,
    "start_time": "2024-09-28T09:51:12.819Z"
   },
   {
    "duration": 0,
    "start_time": "2024-09-28T09:51:12.820Z"
   },
   {
    "duration": 0,
    "start_time": "2024-09-28T09:51:12.821Z"
   },
   {
    "duration": 0,
    "start_time": "2024-09-28T09:51:12.822Z"
   },
   {
    "duration": 0,
    "start_time": "2024-09-28T09:51:12.824Z"
   },
   {
    "duration": 0,
    "start_time": "2024-09-28T09:51:12.825Z"
   },
   {
    "duration": 0,
    "start_time": "2024-09-28T09:51:12.827Z"
   },
   {
    "duration": 0,
    "start_time": "2024-09-28T09:51:12.828Z"
   },
   {
    "duration": 0,
    "start_time": "2024-09-28T09:51:12.830Z"
   },
   {
    "duration": 0,
    "start_time": "2024-09-28T09:51:12.866Z"
   },
   {
    "duration": 22,
    "start_time": "2024-09-28T09:52:18.480Z"
   },
   {
    "duration": 19,
    "start_time": "2024-09-28T09:52:18.679Z"
   },
   {
    "duration": 12,
    "start_time": "2024-09-28T09:52:18.872Z"
   },
   {
    "duration": 17,
    "start_time": "2024-09-28T09:52:19.015Z"
   },
   {
    "duration": 212,
    "start_time": "2024-09-28T09:52:19.176Z"
   },
   {
    "duration": 5,
    "start_time": "2024-09-28T09:52:19.479Z"
   },
   {
    "duration": 1474,
    "start_time": "2024-09-28T09:52:19.640Z"
   },
   {
    "duration": 15,
    "start_time": "2024-09-28T09:52:21.116Z"
   },
   {
    "duration": 20,
    "start_time": "2024-09-28T09:52:21.132Z"
   },
   {
    "duration": 193,
    "start_time": "2024-09-28T09:52:21.154Z"
   },
   {
    "duration": 134,
    "start_time": "2024-09-28T09:52:21.349Z"
   },
   {
    "duration": 310,
    "start_time": "2024-09-28T09:52:21.484Z"
   },
   {
    "duration": 327,
    "start_time": "2024-09-28T09:52:21.796Z"
   },
   {
    "duration": 331,
    "start_time": "2024-09-28T09:52:22.125Z"
   },
   {
    "duration": 65,
    "start_time": "2024-09-28T09:52:22.457Z"
   },
   {
    "duration": 0,
    "start_time": "2024-09-28T09:52:22.524Z"
   },
   {
    "duration": 455,
    "start_time": "2024-09-28T09:52:22.550Z"
   },
   {
    "duration": 70,
    "start_time": "2024-09-28T09:52:56.128Z"
   },
   {
    "duration": 290,
    "start_time": "2024-09-28T09:52:58.871Z"
   },
   {
    "duration": 329,
    "start_time": "2024-09-28T09:53:00.152Z"
   },
   {
    "duration": 69,
    "start_time": "2024-09-28T09:53:09.064Z"
   },
   {
    "duration": 69,
    "start_time": "2024-09-28T09:53:14.088Z"
   },
   {
    "duration": 51,
    "start_time": "2024-09-28T10:17:34.536Z"
   },
   {
    "duration": 17512,
    "start_time": "2024-09-28T10:17:39.716Z"
   },
   {
    "duration": 1449,
    "start_time": "2024-09-28T10:17:57.230Z"
   },
   {
    "duration": 563,
    "start_time": "2024-09-28T10:17:58.681Z"
   },
   {
    "duration": 2,
    "start_time": "2024-09-28T10:17:59.246Z"
   },
   {
    "duration": 393,
    "start_time": "2024-09-28T10:17:59.250Z"
   },
   {
    "duration": 14,
    "start_time": "2024-09-28T10:17:59.645Z"
   },
   {
    "duration": 18,
    "start_time": "2024-09-28T10:17:59.661Z"
   },
   {
    "duration": 35,
    "start_time": "2024-09-28T10:17:59.680Z"
   },
   {
    "duration": 18,
    "start_time": "2024-09-28T10:17:59.717Z"
   },
   {
    "duration": 10,
    "start_time": "2024-09-28T10:17:59.737Z"
   },
   {
    "duration": 19,
    "start_time": "2024-09-28T10:17:59.749Z"
   },
   {
    "duration": 10,
    "start_time": "2024-09-28T10:17:59.770Z"
   },
   {
    "duration": 7,
    "start_time": "2024-09-28T10:17:59.782Z"
   },
   {
    "duration": 39,
    "start_time": "2024-09-28T10:17:59.792Z"
   },
   {
    "duration": 9,
    "start_time": "2024-09-28T10:17:59.833Z"
   },
   {
    "duration": 8,
    "start_time": "2024-09-28T10:17:59.844Z"
   },
   {
    "duration": 55,
    "start_time": "2024-09-28T10:17:59.853Z"
   },
   {
    "duration": 13,
    "start_time": "2024-09-28T10:17:59.910Z"
   },
   {
    "duration": 5,
    "start_time": "2024-09-28T10:17:59.925Z"
   },
   {
    "duration": 7,
    "start_time": "2024-09-28T10:17:59.932Z"
   },
   {
    "duration": 3,
    "start_time": "2024-09-28T10:17:59.941Z"
   },
   {
    "duration": 13,
    "start_time": "2024-09-28T10:17:59.945Z"
   },
   {
    "duration": 12,
    "start_time": "2024-09-28T10:17:59.960Z"
   },
   {
    "duration": 11,
    "start_time": "2024-09-28T10:17:59.973Z"
   },
   {
    "duration": 43,
    "start_time": "2024-09-28T10:17:59.986Z"
   },
   {
    "duration": 61,
    "start_time": "2024-09-28T10:18:00.031Z"
   },
   {
    "duration": 5,
    "start_time": "2024-09-28T10:18:00.094Z"
   },
   {
    "duration": 31,
    "start_time": "2024-09-28T10:18:00.100Z"
   },
   {
    "duration": 57,
    "start_time": "2024-09-28T10:18:00.134Z"
   },
   {
    "duration": 31,
    "start_time": "2024-09-28T10:18:00.194Z"
   },
   {
    "duration": 27,
    "start_time": "2024-09-28T10:18:00.228Z"
   },
   {
    "duration": 195,
    "start_time": "2024-09-28T10:18:00.257Z"
   },
   {
    "duration": 126,
    "start_time": "2024-09-28T10:18:00.454Z"
   },
   {
    "duration": 4,
    "start_time": "2024-09-28T10:18:00.582Z"
   },
   {
    "duration": 136,
    "start_time": "2024-09-28T10:18:00.587Z"
   },
   {
    "duration": 408,
    "start_time": "2024-09-28T10:18:00.725Z"
   },
   {
    "duration": 25,
    "start_time": "2024-09-28T10:18:01.135Z"
   },
   {
    "duration": 457,
    "start_time": "2024-09-28T10:18:01.161Z"
   },
   {
    "duration": 500,
    "start_time": "2024-09-28T10:18:01.625Z"
   },
   {
    "duration": 424,
    "start_time": "2024-09-28T10:18:02.127Z"
   },
   {
    "duration": 221,
    "start_time": "2024-09-28T10:18:02.556Z"
   },
   {
    "duration": 430,
    "start_time": "2024-09-28T10:18:02.778Z"
   },
   {
    "duration": 437,
    "start_time": "2024-09-28T10:18:03.209Z"
   },
   {
    "duration": 411,
    "start_time": "2024-09-28T10:18:03.647Z"
   },
   {
    "duration": 549,
    "start_time": "2024-09-28T10:18:04.060Z"
   },
   {
    "duration": 175,
    "start_time": "2024-09-28T10:18:04.611Z"
   },
   {
    "duration": 15,
    "start_time": "2024-09-28T10:18:04.789Z"
   },
   {
    "duration": 200,
    "start_time": "2024-09-28T10:18:04.806Z"
   },
   {
    "duration": 322,
    "start_time": "2024-09-28T10:18:05.009Z"
   },
   {
    "duration": 10,
    "start_time": "2024-09-28T10:18:05.334Z"
   },
   {
    "duration": 17,
    "start_time": "2024-09-28T10:18:05.346Z"
   },
   {
    "duration": 350,
    "start_time": "2024-09-28T10:18:05.365Z"
   },
   {
    "duration": 11,
    "start_time": "2024-09-28T10:18:05.725Z"
   },
   {
    "duration": 6,
    "start_time": "2024-09-28T10:18:05.738Z"
   },
   {
    "duration": 329,
    "start_time": "2024-09-28T10:18:05.745Z"
   },
   {
    "duration": 13,
    "start_time": "2024-09-28T10:18:06.076Z"
   },
   {
    "duration": 178,
    "start_time": "2024-09-28T10:18:06.091Z"
   },
   {
    "duration": 4,
    "start_time": "2024-09-28T10:18:06.271Z"
   },
   {
    "duration": 364,
    "start_time": "2024-09-28T10:18:06.276Z"
   },
   {
    "duration": 436,
    "start_time": "2024-09-28T10:18:06.642Z"
   },
   {
    "duration": 10,
    "start_time": "2024-09-28T10:18:07.080Z"
   },
   {
    "duration": 89,
    "start_time": "2024-09-28T10:18:07.092Z"
   },
   {
    "duration": 3395,
    "start_time": "2024-09-28T10:18:07.183Z"
   },
   {
    "duration": 5,
    "start_time": "2024-09-28T10:18:10.579Z"
   },
   {
    "duration": 7363,
    "start_time": "2024-09-28T10:18:10.586Z"
   },
   {
    "duration": 5,
    "start_time": "2024-09-28T10:18:17.951Z"
   },
   {
    "duration": 8,
    "start_time": "2024-09-28T10:18:17.958Z"
   },
   {
    "duration": 6,
    "start_time": "2024-09-28T10:18:17.967Z"
   },
   {
    "duration": 16,
    "start_time": "2024-09-28T10:18:17.974Z"
   },
   {
    "duration": 91,
    "start_time": "2024-09-28T10:18:17.991Z"
   },
   {
    "duration": 15,
    "start_time": "2024-09-28T10:18:18.084Z"
   },
   {
    "duration": 4,
    "start_time": "2024-09-28T10:18:18.100Z"
   },
   {
    "duration": 4,
    "start_time": "2024-09-28T10:18:18.106Z"
   },
   {
    "duration": 5,
    "start_time": "2024-09-28T10:18:18.112Z"
   },
   {
    "duration": 6,
    "start_time": "2024-09-28T10:18:18.119Z"
   },
   {
    "duration": 4,
    "start_time": "2024-09-28T10:18:18.127Z"
   },
   {
    "duration": 6,
    "start_time": "2024-09-28T10:18:18.132Z"
   },
   {
    "duration": 4,
    "start_time": "2024-09-28T10:18:18.139Z"
   },
   {
    "duration": 525,
    "start_time": "2024-09-28T10:18:18.145Z"
   },
   {
    "duration": 0,
    "start_time": "2024-09-28T10:18:18.672Z"
   },
   {
    "duration": 0,
    "start_time": "2024-09-28T10:18:18.674Z"
   },
   {
    "duration": 0,
    "start_time": "2024-09-28T10:18:18.675Z"
   },
   {
    "duration": 0,
    "start_time": "2024-09-28T10:18:18.676Z"
   },
   {
    "duration": 370,
    "start_time": "2024-09-28T10:18:26.652Z"
   },
   {
    "duration": 7769,
    "start_time": "2024-09-28T10:18:44.309Z"
   },
   {
    "duration": 1177,
    "start_time": "2024-09-28T10:18:52.081Z"
   },
   {
    "duration": 526,
    "start_time": "2024-09-28T10:18:53.260Z"
   },
   {
    "duration": 3,
    "start_time": "2024-09-28T10:18:53.788Z"
   },
   {
    "duration": 91,
    "start_time": "2024-09-28T10:18:53.792Z"
   },
   {
    "duration": 12,
    "start_time": "2024-09-28T10:18:53.884Z"
   },
   {
    "duration": 15,
    "start_time": "2024-09-28T10:18:53.898Z"
   },
   {
    "duration": 34,
    "start_time": "2024-09-28T10:18:53.914Z"
   },
   {
    "duration": 11,
    "start_time": "2024-09-28T10:18:53.950Z"
   },
   {
    "duration": 8,
    "start_time": "2024-09-28T10:18:53.963Z"
   },
   {
    "duration": 14,
    "start_time": "2024-09-28T10:18:53.972Z"
   },
   {
    "duration": 10,
    "start_time": "2024-09-28T10:18:53.987Z"
   },
   {
    "duration": 56,
    "start_time": "2024-09-28T10:18:54.025Z"
   },
   {
    "duration": 15,
    "start_time": "2024-09-28T10:18:54.082Z"
   },
   {
    "duration": 9,
    "start_time": "2024-09-28T10:18:54.098Z"
   },
   {
    "duration": 17,
    "start_time": "2024-09-28T10:18:54.109Z"
   },
   {
    "duration": 13,
    "start_time": "2024-09-28T10:18:54.128Z"
   },
   {
    "duration": 3,
    "start_time": "2024-09-28T10:18:54.142Z"
   },
   {
    "duration": 5,
    "start_time": "2024-09-28T10:18:54.146Z"
   },
   {
    "duration": 4,
    "start_time": "2024-09-28T10:18:54.152Z"
   },
   {
    "duration": 2,
    "start_time": "2024-09-28T10:18:54.158Z"
   },
   {
    "duration": 13,
    "start_time": "2024-09-28T10:18:54.162Z"
   },
   {
    "duration": 11,
    "start_time": "2024-09-28T10:18:54.176Z"
   },
   {
    "duration": 11,
    "start_time": "2024-09-28T10:18:54.225Z"
   },
   {
    "duration": 6,
    "start_time": "2024-09-28T10:18:54.238Z"
   },
   {
    "duration": 8,
    "start_time": "2024-09-28T10:18:54.245Z"
   },
   {
    "duration": 3,
    "start_time": "2024-09-28T10:18:54.255Z"
   },
   {
    "duration": 11,
    "start_time": "2024-09-28T10:18:54.262Z"
   },
   {
    "duration": 8,
    "start_time": "2024-09-28T10:18:54.274Z"
   },
   {
    "duration": 46,
    "start_time": "2024-09-28T10:18:54.283Z"
   },
   {
    "duration": 8,
    "start_time": "2024-09-28T10:18:54.331Z"
   },
   {
    "duration": 147,
    "start_time": "2024-09-28T10:18:54.340Z"
   },
   {
    "duration": 129,
    "start_time": "2024-09-28T10:18:54.489Z"
   },
   {
    "duration": 7,
    "start_time": "2024-09-28T10:18:54.619Z"
   },
   {
    "duration": 119,
    "start_time": "2024-09-28T10:18:54.628Z"
   },
   {
    "duration": 409,
    "start_time": "2024-09-28T10:18:54.749Z"
   },
   {
    "duration": 25,
    "start_time": "2024-09-28T10:18:55.160Z"
   },
   {
    "duration": 451,
    "start_time": "2024-09-28T10:18:55.187Z"
   },
   {
    "duration": 497,
    "start_time": "2024-09-28T10:18:55.640Z"
   },
   {
    "duration": 389,
    "start_time": "2024-09-28T10:18:56.138Z"
   },
   {
    "duration": 191,
    "start_time": "2024-09-28T10:18:56.529Z"
   },
   {
    "duration": 397,
    "start_time": "2024-09-28T10:18:56.725Z"
   },
   {
    "duration": 410,
    "start_time": "2024-09-28T10:18:57.123Z"
   },
   {
    "duration": 400,
    "start_time": "2024-09-28T10:18:57.534Z"
   },
   {
    "duration": 544,
    "start_time": "2024-09-28T10:18:57.936Z"
   },
   {
    "duration": 168,
    "start_time": "2024-09-28T10:18:58.482Z"
   },
   {
    "duration": 13,
    "start_time": "2024-09-28T10:18:58.652Z"
   },
   {
    "duration": 194,
    "start_time": "2024-09-28T10:18:58.667Z"
   },
   {
    "duration": 312,
    "start_time": "2024-09-28T10:18:58.863Z"
   },
   {
    "duration": 9,
    "start_time": "2024-09-28T10:18:59.177Z"
   },
   {
    "duration": 4,
    "start_time": "2024-09-28T10:18:59.187Z"
   },
   {
    "duration": 346,
    "start_time": "2024-09-28T10:18:59.192Z"
   },
   {
    "duration": 10,
    "start_time": "2024-09-28T10:18:59.540Z"
   },
   {
    "duration": 57,
    "start_time": "2024-09-28T10:18:59.552Z"
   },
   {
    "duration": 318,
    "start_time": "2024-09-28T10:18:59.612Z"
   },
   {
    "duration": 12,
    "start_time": "2024-09-28T10:18:59.932Z"
   },
   {
    "duration": 173,
    "start_time": "2024-09-28T10:18:59.946Z"
   },
   {
    "duration": 4,
    "start_time": "2024-09-28T10:19:00.125Z"
   },
   {
    "duration": 357,
    "start_time": "2024-09-28T10:19:00.131Z"
   },
   {
    "duration": 425,
    "start_time": "2024-09-28T10:19:00.490Z"
   },
   {
    "duration": 10,
    "start_time": "2024-09-28T10:19:00.925Z"
   },
   {
    "duration": 45,
    "start_time": "2024-09-28T10:19:00.937Z"
   },
   {
    "duration": 3147,
    "start_time": "2024-09-28T10:19:00.983Z"
   },
   {
    "duration": 4,
    "start_time": "2024-09-28T10:19:04.132Z"
   },
   {
    "duration": 6865,
    "start_time": "2024-09-28T10:19:04.138Z"
   },
   {
    "duration": 7,
    "start_time": "2024-09-28T10:19:11.005Z"
   },
   {
    "duration": 8,
    "start_time": "2024-09-28T10:19:11.026Z"
   },
   {
    "duration": 6,
    "start_time": "2024-09-28T10:19:11.036Z"
   },
   {
    "duration": 73,
    "start_time": "2024-09-28T10:19:11.043Z"
   },
   {
    "duration": 8,
    "start_time": "2024-09-28T10:19:11.118Z"
   },
   {
    "duration": 15,
    "start_time": "2024-09-28T10:19:11.128Z"
   },
   {
    "duration": 4,
    "start_time": "2024-09-28T10:19:11.145Z"
   },
   {
    "duration": 5,
    "start_time": "2024-09-28T10:19:11.151Z"
   },
   {
    "duration": 5,
    "start_time": "2024-09-28T10:19:11.158Z"
   },
   {
    "duration": 4,
    "start_time": "2024-09-28T10:19:11.165Z"
   },
   {
    "duration": 4,
    "start_time": "2024-09-28T10:19:11.170Z"
   },
   {
    "duration": 6,
    "start_time": "2024-09-28T10:19:11.176Z"
   },
   {
    "duration": 3,
    "start_time": "2024-09-28T10:19:11.226Z"
   },
   {
    "duration": 511,
    "start_time": "2024-09-28T10:19:11.231Z"
   },
   {
    "duration": 0,
    "start_time": "2024-09-28T10:19:11.744Z"
   },
   {
    "duration": 0,
    "start_time": "2024-09-28T10:19:11.745Z"
   },
   {
    "duration": 0,
    "start_time": "2024-09-28T10:19:11.747Z"
   },
   {
    "duration": 0,
    "start_time": "2024-09-28T10:19:11.748Z"
   },
   {
    "duration": 0,
    "start_time": "2024-09-28T10:19:11.751Z"
   },
   {
    "duration": 0,
    "start_time": "2024-09-28T10:19:11.752Z"
   },
   {
    "duration": 0,
    "start_time": "2024-09-28T10:19:11.753Z"
   },
   {
    "duration": 0,
    "start_time": "2024-09-28T10:19:11.754Z"
   },
   {
    "duration": 0,
    "start_time": "2024-09-28T10:19:11.755Z"
   },
   {
    "duration": 0,
    "start_time": "2024-09-28T10:19:11.757Z"
   },
   {
    "duration": 0,
    "start_time": "2024-09-28T10:19:11.758Z"
   },
   {
    "duration": 0,
    "start_time": "2024-09-28T10:19:11.760Z"
   },
   {
    "duration": 0,
    "start_time": "2024-09-28T10:19:11.761Z"
   },
   {
    "duration": 0,
    "start_time": "2024-09-28T10:19:11.762Z"
   },
   {
    "duration": 0,
    "start_time": "2024-09-28T10:19:11.763Z"
   },
   {
    "duration": 0,
    "start_time": "2024-09-28T10:19:11.764Z"
   },
   {
    "duration": 0,
    "start_time": "2024-09-28T10:19:11.765Z"
   },
   {
    "duration": 0,
    "start_time": "2024-09-28T10:19:11.766Z"
   },
   {
    "duration": 0,
    "start_time": "2024-09-28T10:19:11.768Z"
   },
   {
    "duration": 0,
    "start_time": "2024-09-28T10:19:11.769Z"
   },
   {
    "duration": 0,
    "start_time": "2024-09-28T10:19:11.770Z"
   },
   {
    "duration": 0,
    "start_time": "2024-09-28T10:19:11.770Z"
   },
   {
    "duration": 3,
    "start_time": "2024-09-28T10:30:33.561Z"
   },
   {
    "duration": 378,
    "start_time": "2024-09-28T10:30:36.853Z"
   },
   {
    "duration": 4,
    "start_time": "2024-09-28T10:31:32.053Z"
   },
   {
    "duration": 132,
    "start_time": "2024-09-28T10:31:36.881Z"
   },
   {
    "duration": 364,
    "start_time": "2024-09-28T10:31:42.673Z"
   },
   {
    "duration": 3,
    "start_time": "2024-09-28T10:33:19.341Z"
   },
   {
    "duration": 4,
    "start_time": "2024-09-28T10:33:30.141Z"
   },
   {
    "duration": 12,
    "start_time": "2024-09-28T10:33:30.150Z"
   },
   {
    "duration": 7,
    "start_time": "2024-09-28T10:33:30.164Z"
   },
   {
    "duration": 30,
    "start_time": "2024-09-28T10:33:30.173Z"
   },
   {
    "duration": 25,
    "start_time": "2024-09-28T10:33:30.205Z"
   },
   {
    "duration": 21,
    "start_time": "2024-09-28T10:33:30.232Z"
   },
   {
    "duration": 2211,
    "start_time": "2024-09-28T10:33:30.255Z"
   },
   {
    "duration": 85,
    "start_time": "2024-09-28T10:33:32.468Z"
   },
   {
    "duration": 77,
    "start_time": "2024-09-28T10:33:32.554Z"
   },
   {
    "duration": 5,
    "start_time": "2024-09-28T10:33:32.633Z"
   },
   {
    "duration": 3575,
    "start_time": "2024-09-28T10:33:32.639Z"
   },
   {
    "duration": 1229,
    "start_time": "2024-09-28T10:33:36.216Z"
   },
   {
    "duration": 24,
    "start_time": "2024-09-28T10:33:37.447Z"
   },
   {
    "duration": 157,
    "start_time": "2024-09-28T10:33:37.474Z"
   },
   {
    "duration": 34,
    "start_time": "2024-09-28T10:33:37.634Z"
   },
   {
    "duration": 17,
    "start_time": "2024-09-28T10:33:37.670Z"
   },
   {
    "duration": 215,
    "start_time": "2024-09-28T10:33:37.688Z"
   },
   {
    "duration": 4,
    "start_time": "2024-09-28T10:33:37.905Z"
   },
   {
    "duration": 1484,
    "start_time": "2024-09-28T10:33:37.910Z"
   },
   {
    "duration": 17,
    "start_time": "2024-09-28T10:33:39.396Z"
   },
   {
    "duration": 17,
    "start_time": "2024-09-28T10:33:39.425Z"
   },
   {
    "duration": 244,
    "start_time": "2024-09-28T10:33:39.443Z"
   },
   {
    "duration": 147,
    "start_time": "2024-09-28T10:33:39.689Z"
   },
   {
    "duration": 333,
    "start_time": "2024-09-28T10:33:39.837Z"
   },
   {
    "duration": 333,
    "start_time": "2024-09-28T10:33:40.172Z"
   },
   {
    "duration": 476,
    "start_time": "2024-09-28T10:33:40.507Z"
   },
   {
    "duration": 51,
    "start_time": "2024-09-28T10:33:40.985Z"
   },
   {
    "duration": 0,
    "start_time": "2024-09-28T10:33:41.037Z"
   },
   {
    "duration": 0,
    "start_time": "2024-09-28T10:33:41.039Z"
   },
   {
    "duration": 5,
    "start_time": "2024-09-28T10:34:29.378Z"
   },
   {
    "duration": 6,
    "start_time": "2024-09-28T10:34:34.110Z"
   },
   {
    "duration": 5,
    "start_time": "2024-09-28T10:34:37.214Z"
   },
   {
    "duration": 29,
    "start_time": "2024-09-28T10:34:37.224Z"
   },
   {
    "duration": 2902,
    "start_time": "2024-09-28T10:34:37.255Z"
   },
   {
    "duration": 98,
    "start_time": "2024-09-28T10:34:40.160Z"
   },
   {
    "duration": 79,
    "start_time": "2024-09-28T10:34:40.260Z"
   },
   {
    "duration": 5,
    "start_time": "2024-09-28T10:34:40.342Z"
   },
   {
    "duration": 3399,
    "start_time": "2024-09-28T10:34:40.348Z"
   },
   {
    "duration": 1276,
    "start_time": "2024-09-28T10:34:43.750Z"
   },
   {
    "duration": 25,
    "start_time": "2024-09-28T10:34:45.028Z"
   },
   {
    "duration": 177,
    "start_time": "2024-09-28T10:34:45.056Z"
   },
   {
    "duration": 28,
    "start_time": "2024-09-28T10:34:45.236Z"
   },
   {
    "duration": 0,
    "start_time": "2024-09-28T10:34:45.266Z"
   },
   {
    "duration": 0,
    "start_time": "2024-09-28T10:34:45.267Z"
   },
   {
    "duration": 0,
    "start_time": "2024-09-28T10:34:45.269Z"
   },
   {
    "duration": 0,
    "start_time": "2024-09-28T10:34:45.270Z"
   },
   {
    "duration": 0,
    "start_time": "2024-09-28T10:34:45.271Z"
   },
   {
    "duration": 0,
    "start_time": "2024-09-28T10:34:45.272Z"
   },
   {
    "duration": 0,
    "start_time": "2024-09-28T10:34:45.273Z"
   },
   {
    "duration": 0,
    "start_time": "2024-09-28T10:34:45.274Z"
   },
   {
    "duration": 0,
    "start_time": "2024-09-28T10:34:45.276Z"
   },
   {
    "duration": 0,
    "start_time": "2024-09-28T10:34:45.277Z"
   },
   {
    "duration": 0,
    "start_time": "2024-09-28T10:34:45.278Z"
   },
   {
    "duration": 0,
    "start_time": "2024-09-28T10:34:45.279Z"
   },
   {
    "duration": 0,
    "start_time": "2024-09-28T10:34:45.281Z"
   },
   {
    "duration": 0,
    "start_time": "2024-09-28T10:34:45.282Z"
   },
   {
    "duration": 51,
    "start_time": "2024-09-28T10:43:56.642Z"
   },
   {
    "duration": 273,
    "start_time": "2024-09-28T10:44:09.389Z"
   },
   {
    "duration": 47,
    "start_time": "2024-09-28T15:01:10.340Z"
   },
   {
    "duration": 14050,
    "start_time": "2024-09-28T15:01:15.986Z"
   },
   {
    "duration": 1318,
    "start_time": "2024-09-28T15:01:30.038Z"
   },
   {
    "duration": 543,
    "start_time": "2024-09-28T15:01:31.358Z"
   },
   {
    "duration": 2,
    "start_time": "2024-09-28T15:01:31.903Z"
   },
   {
    "duration": 449,
    "start_time": "2024-09-28T15:01:31.907Z"
   },
   {
    "duration": 13,
    "start_time": "2024-09-28T15:01:32.358Z"
   },
   {
    "duration": 34,
    "start_time": "2024-09-28T15:01:32.373Z"
   },
   {
    "duration": 45,
    "start_time": "2024-09-28T15:01:32.408Z"
   },
   {
    "duration": 13,
    "start_time": "2024-09-28T15:01:32.455Z"
   },
   {
    "duration": 10,
    "start_time": "2024-09-28T15:01:32.469Z"
   },
   {
    "duration": 40,
    "start_time": "2024-09-28T15:01:32.480Z"
   },
   {
    "duration": 10,
    "start_time": "2024-09-28T15:01:32.522Z"
   },
   {
    "duration": 20,
    "start_time": "2024-09-28T15:01:32.533Z"
   },
   {
    "duration": 14,
    "start_time": "2024-09-28T15:01:32.557Z"
   },
   {
    "duration": 10,
    "start_time": "2024-09-28T15:01:32.573Z"
   },
   {
    "duration": 38,
    "start_time": "2024-09-28T15:01:32.585Z"
   },
   {
    "duration": 110,
    "start_time": "2024-09-28T15:01:32.625Z"
   },
   {
    "duration": 15,
    "start_time": "2024-09-28T15:01:32.736Z"
   },
   {
    "duration": 35,
    "start_time": "2024-09-28T15:01:32.752Z"
   },
   {
    "duration": 21,
    "start_time": "2024-09-28T15:01:32.788Z"
   },
   {
    "duration": 21,
    "start_time": "2024-09-28T15:01:32.811Z"
   },
   {
    "duration": 49,
    "start_time": "2024-09-28T15:01:32.833Z"
   },
   {
    "duration": 32,
    "start_time": "2024-09-28T15:01:32.884Z"
   },
   {
    "duration": 23,
    "start_time": "2024-09-28T15:01:32.917Z"
   },
   {
    "duration": 21,
    "start_time": "2024-09-28T15:01:32.941Z"
   },
   {
    "duration": 30,
    "start_time": "2024-09-28T15:01:32.964Z"
   },
   {
    "duration": 3,
    "start_time": "2024-09-28T15:01:32.996Z"
   },
   {
    "duration": 21,
    "start_time": "2024-09-28T15:01:33.000Z"
   },
   {
    "duration": 23,
    "start_time": "2024-09-28T15:01:33.023Z"
   },
   {
    "duration": 29,
    "start_time": "2024-09-28T15:01:33.047Z"
   },
   {
    "duration": 8,
    "start_time": "2024-09-28T15:01:33.078Z"
   },
   {
    "duration": 159,
    "start_time": "2024-09-28T15:01:33.087Z"
   },
   {
    "duration": 117,
    "start_time": "2024-09-28T15:01:33.248Z"
   },
   {
    "duration": 4,
    "start_time": "2024-09-28T15:01:33.367Z"
   },
   {
    "duration": 119,
    "start_time": "2024-09-28T15:01:33.372Z"
   },
   {
    "duration": 382,
    "start_time": "2024-09-28T15:01:33.493Z"
   },
   {
    "duration": 23,
    "start_time": "2024-09-28T15:01:33.877Z"
   },
   {
    "duration": 432,
    "start_time": "2024-09-28T15:01:33.901Z"
   },
   {
    "duration": 481,
    "start_time": "2024-09-28T15:01:34.334Z"
   },
   {
    "duration": 376,
    "start_time": "2024-09-28T15:01:34.816Z"
   },
   {
    "duration": 201,
    "start_time": "2024-09-28T15:01:35.196Z"
   },
   {
    "duration": 397,
    "start_time": "2024-09-28T15:01:35.398Z"
   },
   {
    "duration": 388,
    "start_time": "2024-09-28T15:01:35.796Z"
   },
   {
    "duration": 398,
    "start_time": "2024-09-28T15:01:36.185Z"
   },
   {
    "duration": 507,
    "start_time": "2024-09-28T15:01:36.584Z"
   },
   {
    "duration": 170,
    "start_time": "2024-09-28T15:01:37.093Z"
   },
   {
    "duration": 21,
    "start_time": "2024-09-28T15:01:37.264Z"
   },
   {
    "duration": 206,
    "start_time": "2024-09-28T15:01:37.287Z"
   },
   {
    "duration": 303,
    "start_time": "2024-09-28T15:01:37.495Z"
   },
   {
    "duration": 20,
    "start_time": "2024-09-28T15:01:37.800Z"
   },
   {
    "duration": 8,
    "start_time": "2024-09-28T15:01:37.821Z"
   },
   {
    "duration": 328,
    "start_time": "2024-09-28T15:01:37.831Z"
   },
   {
    "duration": 10,
    "start_time": "2024-09-28T15:01:38.160Z"
   },
   {
    "duration": 4,
    "start_time": "2024-09-28T15:01:38.172Z"
   },
   {
    "duration": 320,
    "start_time": "2024-09-28T15:01:38.178Z"
   },
   {
    "duration": 22,
    "start_time": "2024-09-28T15:01:38.500Z"
   },
   {
    "duration": 168,
    "start_time": "2024-09-28T15:01:38.523Z"
   },
   {
    "duration": 4,
    "start_time": "2024-09-28T15:01:38.692Z"
   },
   {
    "duration": 349,
    "start_time": "2024-09-28T15:01:38.698Z"
   },
   {
    "duration": 436,
    "start_time": "2024-09-28T15:01:39.050Z"
   },
   {
    "duration": 10,
    "start_time": "2024-09-28T15:01:39.488Z"
   },
   {
    "duration": 56,
    "start_time": "2024-09-28T15:01:39.499Z"
   },
   {
    "duration": 3188,
    "start_time": "2024-09-28T15:01:39.556Z"
   },
   {
    "duration": 4,
    "start_time": "2024-09-28T15:01:42.745Z"
   },
   {
    "duration": 6999,
    "start_time": "2024-09-28T15:01:42.751Z"
   },
   {
    "duration": 5,
    "start_time": "2024-09-28T15:01:49.751Z"
   },
   {
    "duration": 10,
    "start_time": "2024-09-28T15:01:49.758Z"
   },
   {
    "duration": 5,
    "start_time": "2024-09-28T15:01:49.770Z"
   },
   {
    "duration": 40,
    "start_time": "2024-09-28T15:01:49.776Z"
   },
   {
    "duration": 22,
    "start_time": "2024-09-28T15:01:49.818Z"
   },
   {
    "duration": 14,
    "start_time": "2024-09-28T15:01:49.842Z"
   },
   {
    "duration": 4,
    "start_time": "2024-09-28T15:01:49.858Z"
   },
   {
    "duration": 10,
    "start_time": "2024-09-28T15:01:49.864Z"
   },
   {
    "duration": 5,
    "start_time": "2024-09-28T15:01:49.876Z"
   },
   {
    "duration": 4,
    "start_time": "2024-09-28T15:01:49.883Z"
   },
   {
    "duration": 4,
    "start_time": "2024-09-28T15:01:49.889Z"
   },
   {
    "duration": 6,
    "start_time": "2024-09-28T15:01:49.895Z"
   },
   {
    "duration": 3,
    "start_time": "2024-09-28T15:01:49.915Z"
   },
   {
    "duration": 459,
    "start_time": "2024-09-28T15:01:49.920Z"
   },
   {
    "duration": 0,
    "start_time": "2024-09-28T15:01:50.381Z"
   },
   {
    "duration": 0,
    "start_time": "2024-09-28T15:01:50.382Z"
   },
   {
    "duration": 0,
    "start_time": "2024-09-28T15:01:50.384Z"
   },
   {
    "duration": 0,
    "start_time": "2024-09-28T15:01:50.385Z"
   },
   {
    "duration": 0,
    "start_time": "2024-09-28T15:01:50.386Z"
   },
   {
    "duration": 0,
    "start_time": "2024-09-28T15:01:50.388Z"
   },
   {
    "duration": 0,
    "start_time": "2024-09-28T15:01:50.389Z"
   },
   {
    "duration": 0,
    "start_time": "2024-09-28T15:01:50.390Z"
   },
   {
    "duration": 0,
    "start_time": "2024-09-28T15:01:50.415Z"
   },
   {
    "duration": 0,
    "start_time": "2024-09-28T15:01:50.416Z"
   },
   {
    "duration": 0,
    "start_time": "2024-09-28T15:01:50.417Z"
   },
   {
    "duration": 0,
    "start_time": "2024-09-28T15:01:50.418Z"
   },
   {
    "duration": 0,
    "start_time": "2024-09-28T15:01:50.419Z"
   },
   {
    "duration": 0,
    "start_time": "2024-09-28T15:01:50.420Z"
   },
   {
    "duration": 0,
    "start_time": "2024-09-28T15:01:50.422Z"
   },
   {
    "duration": 0,
    "start_time": "2024-09-28T15:01:50.423Z"
   },
   {
    "duration": 0,
    "start_time": "2024-09-28T15:01:50.424Z"
   },
   {
    "duration": 0,
    "start_time": "2024-09-28T15:01:50.425Z"
   },
   {
    "duration": 0,
    "start_time": "2024-09-28T15:01:50.426Z"
   },
   {
    "duration": 0,
    "start_time": "2024-09-28T15:01:50.427Z"
   },
   {
    "duration": 0,
    "start_time": "2024-09-28T15:01:50.428Z"
   },
   {
    "duration": 0,
    "start_time": "2024-09-28T15:01:50.429Z"
   },
   {
    "duration": 3,
    "start_time": "2024-09-28T15:02:37.978Z"
   },
   {
    "duration": 3,
    "start_time": "2024-09-28T15:02:41.720Z"
   },
   {
    "duration": 3,
    "start_time": "2024-09-28T15:02:43.246Z"
   },
   {
    "duration": 3,
    "start_time": "2024-09-28T15:02:43.713Z"
   },
   {
    "duration": 5,
    "start_time": "2024-09-28T15:02:44.304Z"
   },
   {
    "duration": 2,
    "start_time": "2024-09-28T15:02:46.496Z"
   },
   {
    "duration": 389,
    "start_time": "2024-09-28T15:02:47.005Z"
   },
   {
    "duration": 3,
    "start_time": "2024-09-28T15:03:57.936Z"
   },
   {
    "duration": 3,
    "start_time": "2024-09-28T15:04:01.519Z"
   },
   {
    "duration": 4,
    "start_time": "2024-09-28T15:04:01.550Z"
   },
   {
    "duration": 35,
    "start_time": "2024-09-28T15:04:01.555Z"
   },
   {
    "duration": 19,
    "start_time": "2024-09-28T15:04:01.592Z"
   },
   {
    "duration": 5,
    "start_time": "2024-09-28T15:04:01.614Z"
   },
   {
    "duration": 37,
    "start_time": "2024-09-28T15:04:01.621Z"
   },
   {
    "duration": 2211,
    "start_time": "2024-09-28T15:04:01.659Z"
   },
   {
    "duration": 43,
    "start_time": "2024-09-28T15:04:03.872Z"
   },
   {
    "duration": 45,
    "start_time": "2024-09-28T15:04:03.916Z"
   },
   {
    "duration": 65,
    "start_time": "2024-09-28T15:04:03.964Z"
   },
   {
    "duration": 2750,
    "start_time": "2024-09-28T15:04:04.030Z"
   },
   {
    "duration": 246,
    "start_time": "2024-09-28T15:04:06.782Z"
   },
   {
    "duration": 0,
    "start_time": "2024-09-28T15:04:07.030Z"
   },
   {
    "duration": 0,
    "start_time": "2024-09-28T15:04:07.031Z"
   },
   {
    "duration": 0,
    "start_time": "2024-09-28T15:04:07.032Z"
   },
   {
    "duration": 0,
    "start_time": "2024-09-28T15:04:07.033Z"
   },
   {
    "duration": 0,
    "start_time": "2024-09-28T15:04:07.034Z"
   },
   {
    "duration": 0,
    "start_time": "2024-09-28T15:04:07.035Z"
   },
   {
    "duration": 0,
    "start_time": "2024-09-28T15:04:07.036Z"
   },
   {
    "duration": 0,
    "start_time": "2024-09-28T15:04:07.037Z"
   },
   {
    "duration": 0,
    "start_time": "2024-09-28T15:04:07.038Z"
   },
   {
    "duration": 0,
    "start_time": "2024-09-28T15:04:07.039Z"
   },
   {
    "duration": 0,
    "start_time": "2024-09-28T15:04:07.040Z"
   },
   {
    "duration": 0,
    "start_time": "2024-09-28T15:04:07.041Z"
   },
   {
    "duration": 0,
    "start_time": "2024-09-28T15:04:07.042Z"
   },
   {
    "duration": 0,
    "start_time": "2024-09-28T15:04:07.043Z"
   },
   {
    "duration": 0,
    "start_time": "2024-09-28T15:04:07.044Z"
   },
   {
    "duration": 0,
    "start_time": "2024-09-28T15:04:07.046Z"
   },
   {
    "duration": 0,
    "start_time": "2024-09-28T15:04:07.047Z"
   },
   {
    "duration": 228,
    "start_time": "2024-09-28T15:04:59.189Z"
   },
   {
    "duration": 226,
    "start_time": "2024-09-28T15:05:14.069Z"
   },
   {
    "duration": 230,
    "start_time": "2024-09-28T15:05:27.588Z"
   },
   {
    "duration": 248,
    "start_time": "2024-09-28T15:06:17.568Z"
   },
   {
    "duration": 1589,
    "start_time": "2024-09-28T15:06:26.867Z"
   },
   {
    "duration": 48,
    "start_time": "2024-09-28T15:06:39.455Z"
   },
   {
    "duration": 1764,
    "start_time": "2024-09-28T15:06:43.485Z"
   }
  ],
  "colab": {
   "provenance": []
  },
  "kernelspec": {
   "display_name": "Python 3 (ipykernel)",
   "language": "python",
   "name": "python3"
  },
  "language_info": {
   "codemirror_mode": {
    "name": "ipython",
    "version": 3
   },
   "file_extension": ".py",
   "mimetype": "text/x-python",
   "name": "python",
   "nbconvert_exporter": "python",
   "pygments_lexer": "ipython3",
   "version": "3.11.8"
  },
  "toc": {
   "base_numbering": 1,
   "nav_menu": {},
   "number_sections": true,
   "sideBar": true,
   "skip_h1_title": true,
   "title_cell": "Table of Contents",
   "title_sidebar": "Contents",
   "toc_cell": false,
   "toc_position": {
    "height": "calc(100% - 180px)",
    "left": "10px",
    "top": "150px",
    "width": "355.498px"
   },
   "toc_section_display": true,
   "toc_window_display": false
  }
 },
 "nbformat": 4,
 "nbformat_minor": 1
}
